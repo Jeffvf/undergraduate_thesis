{
 "cells": [
  {
   "cell_type": "code",
   "execution_count": 1,
   "metadata": {},
   "outputs": [],
   "source": [
    "import pandas as pd\n",
    "from datetime import datetime"
   ]
  },
  {
   "cell_type": "code",
   "execution_count": 2,
   "metadata": {},
   "outputs": [],
   "source": [
    "TWEETS_812A_JAN = \"data/tweets/812A_2019_JAN_2KM.csv\"\n",
    "TWEETS_812A_FEV = \"data/tweets/812A_2019_FEV_2KM.csv\"\n",
    "TWEETS_812A_MAR = \"data/tweets/812A_2019_MAR_2KM.csv\"\n",
    "TWEETS_833A = \"data/tweets/833A_2019_2KM.csv\""
   ]
  },
  {
   "cell_type": "code",
   "execution_count": 3,
   "metadata": {},
   "outputs": [],
   "source": [
    "RAIN_GAUGE_CODES = [\"355030812A\", \"355030833A\"]\n",
    "RAIN_GAUGES_JAN = \"data/rain_gauges/data1.csv\"\n",
    "RAIN_GAUGES_FEV = \"data/rain_gauges/data2.csv\"\n",
    "RAIN_GAUGES_MAR = \"data/rain_gauges/data3.csv\""
   ]
  },
  {
   "cell_type": "code",
   "execution_count": 4,
   "metadata": {},
   "outputs": [],
   "source": [
    "FLOODS_812A = \"data/floods/812A_alags.csv\"\n",
    "FLOODS_833A = \"data/floods/833A_alags.csv\"\n",
    "GEO_812A = [-46.632533, -23.531015]\n",
    "GEO_833A = [-46.635987, -23.543311]"
   ]
  },
  {
   "cell_type": "code",
   "execution_count": 5,
   "metadata": {},
   "outputs": [],
   "source": [
    "KEYWORDS = [\"chuva\", \"chove\", \"chuvoso\", \"chuvosa\", \"chuvarada\", \n",
    "            \"alagamento\", \"alagou\", \"inundação\", \"inundada\", \"enxurrada\",\n",
    "            \"rio transbordou\", \"córrego transbordou\", \"rio saiu da calha\", \n",
    "            \"córrego saiu da calha\", \"deslizamento\", \"escorregamento\", \"queda de barreira\"]"
   ]
  },
  {
   "cell_type": "markdown",
   "metadata": {},
   "source": [
    "## Time range creation"
   ]
  },
  {
   "cell_type": "code",
   "execution_count": 6,
   "metadata": {},
   "outputs": [],
   "source": [
    "DAYS_RANGE = datetime(2019, 4, 1) - datetime(2019, 1, 1) \n",
    "TIME_PERIOD = DAYS_RANGE.days * 24 * 6"
   ]
  },
  {
   "cell_type": "code",
   "execution_count": 7,
   "metadata": {},
   "outputs": [],
   "source": [
    "begin_date = datetime.strptime(\"01-01-2019\", \"%d-%m-%Y\")"
   ]
  },
  {
   "cell_type": "code",
   "execution_count": 8,
   "metadata": {},
   "outputs": [],
   "source": [
    "date_range = pd.date_range(begin_date, periods=TIME_PERIOD, freq=\"10min\")"
   ]
  },
  {
   "cell_type": "code",
   "execution_count": 9,
   "metadata": {},
   "outputs": [],
   "source": [
    "date_range = date_range.to_frame(index=False, name=\"time\")"
   ]
  },
  {
   "cell_type": "markdown",
   "metadata": {},
   "source": [
    "## Rain Gauge Data"
   ]
  },
  {
   "cell_type": "code",
   "execution_count": 10,
   "metadata": {},
   "outputs": [],
   "source": [
    "rain_gauges_jan = pd.read_csv(RAIN_GAUGES_JAN, sep=\";\", index_col=False, decimal=\".\")\n",
    "rain_gauges_fev = pd.read_csv(RAIN_GAUGES_FEV, sep=\";\", index_col=False)\n",
    "rain_gauges_mar = pd.read_csv(RAIN_GAUGES_MAR, sep=\";\", index_col=False)"
   ]
  },
  {
   "cell_type": "code",
   "execution_count": 11,
   "metadata": {},
   "outputs": [],
   "source": [
    "rain_gauges = pd.concat([rain_gauges_jan, rain_gauges_fev, rain_gauges_mar])"
   ]
  },
  {
   "cell_type": "code",
   "execution_count": 12,
   "metadata": {},
   "outputs": [],
   "source": [
    "filtered_rain_gauges = rain_gauges[rain_gauges[\"codEstacao\"].isin(RAIN_GAUGE_CODES)]"
   ]
  },
  {
   "cell_type": "code",
   "execution_count": 13,
   "metadata": {},
   "outputs": [
    {
     "name": "stderr",
     "output_type": "stream",
     "text": [
      "C:\\Users\\Jefferson\\AppData\\Local\\Temp\\ipykernel_18652\\3252865042.py:1: SettingWithCopyWarning: \n",
      "A value is trying to be set on a copy of a slice from a DataFrame.\n",
      "Try using .loc[row_indexer,col_indexer] = value instead\n",
      "\n",
      "See the caveats in the documentation: https://pandas.pydata.org/pandas-docs/stable/user_guide/indexing.html#returning-a-view-versus-a-copy\n",
      "  filtered_rain_gauges[\"datahora\"] = pd.to_datetime(filtered_rain_gauges[\"datahora\"])\n",
      "C:\\Users\\Jefferson\\AppData\\Local\\Temp\\ipykernel_18652\\3252865042.py:2: SettingWithCopyWarning: \n",
      "A value is trying to be set on a copy of a slice from a DataFrame.\n",
      "Try using .loc[row_indexer,col_indexer] = value instead\n",
      "\n",
      "See the caveats in the documentation: https://pandas.pydata.org/pandas-docs/stable/user_guide/indexing.html#returning-a-view-versus-a-copy\n",
      "  filtered_rain_gauges[\"valorMedida\"] = filtered_rain_gauges[\"valorMedida\"].str.replace(\",\", \".\")\n",
      "C:\\Users\\Jefferson\\AppData\\Local\\Temp\\ipykernel_18652\\3252865042.py:3: SettingWithCopyWarning: \n",
      "A value is trying to be set on a copy of a slice from a DataFrame.\n",
      "Try using .loc[row_indexer,col_indexer] = value instead\n",
      "\n",
      "See the caveats in the documentation: https://pandas.pydata.org/pandas-docs/stable/user_guide/indexing.html#returning-a-view-versus-a-copy\n",
      "  filtered_rain_gauges[\"valorMedida\"] = pd.to_numeric(filtered_rain_gauges[\"valorMedida\"])\n"
     ]
    }
   ],
   "source": [
    "filtered_rain_gauges[\"datahora\"] = pd.to_datetime(filtered_rain_gauges[\"datahora\"])\n",
    "filtered_rain_gauges[\"valorMedida\"] = filtered_rain_gauges[\"valorMedida\"].str.replace(\",\", \".\")\n",
    "filtered_rain_gauges[\"valorMedida\"] = pd.to_numeric(filtered_rain_gauges[\"valorMedida\"])"
   ]
  },
  {
   "cell_type": "code",
   "execution_count": 14,
   "metadata": {},
   "outputs": [],
   "source": [
    "filtered_rain_gauges = filtered_rain_gauges[[\"codEstacao\", \"datahora\", \"valorMedida\"]]"
   ]
  },
  {
   "cell_type": "code",
   "execution_count": 15,
   "metadata": {},
   "outputs": [],
   "source": [
    "rain_gauge_812A = filtered_rain_gauges[filtered_rain_gauges[\"codEstacao\"] == \"355030812A\"]"
   ]
  },
  {
   "cell_type": "code",
   "execution_count": 16,
   "metadata": {},
   "outputs": [],
   "source": [
    "rain_gauge_833A = filtered_rain_gauges[filtered_rain_gauges[\"codEstacao\"] == \"355030833A\"]"
   ]
  },
  {
   "cell_type": "code",
   "execution_count": 17,
   "metadata": {},
   "outputs": [],
   "source": [
    "time_series = pd.merge(date_range, rain_gauge_812A, left_on=\"time\", right_on=\"datahora\", how=\"left\")"
   ]
  },
  {
   "cell_type": "code",
   "execution_count": 18,
   "metadata": {},
   "outputs": [],
   "source": [
    "time_series = time_series.drop(columns=[\"codEstacao\", \"datahora\"])\n",
    "time_series = time_series.rename(columns={\"valorMedida\": \"812A\"})\n",
    "time_series[\"812A\"] = time_series[\"812A\"].fillna(0)"
   ]
  },
  {
   "cell_type": "code",
   "execution_count": 19,
   "metadata": {},
   "outputs": [],
   "source": [
    "time_series = pd.merge(time_series, rain_gauge_833A, left_on=\"time\", right_on=\"datahora\", how=\"left\")"
   ]
  },
  {
   "cell_type": "code",
   "execution_count": 20,
   "metadata": {},
   "outputs": [],
   "source": [
    "time_series = time_series.drop(columns=[\"codEstacao\", \"datahora\"])\n",
    "time_series = time_series.rename(columns={\"valorMedida\": \"833A\"})\n",
    "time_series[\"833A\"] = time_series[\"833A\"].fillna(0)"
   ]
  },
  {
   "cell_type": "code",
   "execution_count": 21,
   "metadata": {},
   "outputs": [
    {
     "data": {
      "text/html": [
       "<div>\n",
       "<style scoped>\n",
       "    .dataframe tbody tr th:only-of-type {\n",
       "        vertical-align: middle;\n",
       "    }\n",
       "\n",
       "    .dataframe tbody tr th {\n",
       "        vertical-align: top;\n",
       "    }\n",
       "\n",
       "    .dataframe thead th {\n",
       "        text-align: right;\n",
       "    }\n",
       "</style>\n",
       "<table border=\"1\" class=\"dataframe\">\n",
       "  <thead>\n",
       "    <tr style=\"text-align: right;\">\n",
       "      <th></th>\n",
       "      <th>time</th>\n",
       "      <th>812A</th>\n",
       "      <th>833A</th>\n",
       "    </tr>\n",
       "  </thead>\n",
       "  <tbody>\n",
       "    <tr>\n",
       "      <th>0</th>\n",
       "      <td>2019-01-01 00:00:00</td>\n",
       "      <td>0.0</td>\n",
       "      <td>0.0</td>\n",
       "    </tr>\n",
       "    <tr>\n",
       "      <th>1</th>\n",
       "      <td>2019-01-01 00:10:00</td>\n",
       "      <td>0.0</td>\n",
       "      <td>0.0</td>\n",
       "    </tr>\n",
       "    <tr>\n",
       "      <th>2</th>\n",
       "      <td>2019-01-01 00:20:00</td>\n",
       "      <td>0.0</td>\n",
       "      <td>0.0</td>\n",
       "    </tr>\n",
       "    <tr>\n",
       "      <th>3</th>\n",
       "      <td>2019-01-01 00:30:00</td>\n",
       "      <td>0.0</td>\n",
       "      <td>0.0</td>\n",
       "    </tr>\n",
       "    <tr>\n",
       "      <th>4</th>\n",
       "      <td>2019-01-01 00:40:00</td>\n",
       "      <td>0.0</td>\n",
       "      <td>0.0</td>\n",
       "    </tr>\n",
       "  </tbody>\n",
       "</table>\n",
       "</div>"
      ],
      "text/plain": [
       "                 time  812A  833A\n",
       "0 2019-01-01 00:00:00   0.0   0.0\n",
       "1 2019-01-01 00:10:00   0.0   0.0\n",
       "2 2019-01-01 00:20:00   0.0   0.0\n",
       "3 2019-01-01 00:30:00   0.0   0.0\n",
       "4 2019-01-01 00:40:00   0.0   0.0"
      ]
     },
     "execution_count": 21,
     "metadata": {},
     "output_type": "execute_result"
    }
   ],
   "source": [
    "time_series.head()"
   ]
  },
  {
   "cell_type": "markdown",
   "metadata": {},
   "source": [
    "## Tweet data"
   ]
  },
  {
   "cell_type": "code",
   "execution_count": 22,
   "metadata": {},
   "outputs": [],
   "source": [
    "tweets_812A_jan = pd.read_csv(TWEETS_812A_JAN)\n",
    "tweets_812A_fev = pd.read_csv(TWEETS_812A_FEV)\n",
    "tweets_812_mar = pd.read_csv(TWEETS_812A_MAR)\n",
    "tweets_812 = pd.concat([tweets_812A_jan, tweets_812A_fev, tweets_812_mar])"
   ]
  },
  {
   "cell_type": "code",
   "execution_count": 23,
   "metadata": {},
   "outputs": [],
   "source": [
    "tweets_812 = tweets_812[[\"date\", \"text\"]]\n",
    "tweets_812[\"rain_gauge\"] = \"812A_tweets\""
   ]
  },
  {
   "cell_type": "code",
   "execution_count": 24,
   "metadata": {},
   "outputs": [],
   "source": [
    "tweets_833 = pd.read_csv(TWEETS_833A)"
   ]
  },
  {
   "cell_type": "code",
   "execution_count": 25,
   "metadata": {},
   "outputs": [],
   "source": [
    "tweets_833 = tweets_833[[\"date\", \"text\"]]\n",
    "tweets_833[\"rain_gauge\"] = \"833A_tweets\""
   ]
  },
  {
   "cell_type": "code",
   "execution_count": 26,
   "metadata": {},
   "outputs": [],
   "source": [
    "tweets = pd.concat([tweets_812, tweets_833])"
   ]
  },
  {
   "cell_type": "code",
   "execution_count": 27,
   "metadata": {},
   "outputs": [],
   "source": [
    "pattern = \"|\".join(KEYWORDS)"
   ]
  },
  {
   "cell_type": "code",
   "execution_count": 28,
   "metadata": {},
   "outputs": [],
   "source": [
    "filtered_data = tweets[tweets[\"text\"].str.contains(pattern, case=False, na=False)]"
   ]
  },
  {
   "cell_type": "code",
   "execution_count": 29,
   "metadata": {},
   "outputs": [
    {
     "name": "stderr",
     "output_type": "stream",
     "text": [
      "C:\\Users\\Jefferson\\AppData\\Local\\Temp\\ipykernel_18652\\721784688.py:1: SettingWithCopyWarning: \n",
      "A value is trying to be set on a copy of a slice from a DataFrame.\n",
      "Try using .loc[row_indexer,col_indexer] = value instead\n",
      "\n",
      "See the caveats in the documentation: https://pandas.pydata.org/pandas-docs/stable/user_guide/indexing.html#returning-a-view-versus-a-copy\n",
      "  filtered_data[\"date\"] = pd.to_datetime(filtered_data[\"date\"])\n"
     ]
    }
   ],
   "source": [
    "filtered_data[\"date\"] = pd.to_datetime(filtered_data[\"date\"])"
   ]
  },
  {
   "cell_type": "code",
   "execution_count": 30,
   "metadata": {},
   "outputs": [
    {
     "name": "stderr",
     "output_type": "stream",
     "text": [
      "C:\\Users\\Jefferson\\AppData\\Local\\Temp\\ipykernel_18652\\2042031006.py:1: SettingWithCopyWarning: \n",
      "A value is trying to be set on a copy of a slice from a DataFrame.\n",
      "Try using .loc[row_indexer,col_indexer] = value instead\n",
      "\n",
      "See the caveats in the documentation: https://pandas.pydata.org/pandas-docs/stable/user_guide/indexing.html#returning-a-view-versus-a-copy\n",
      "  filtered_data[\"date\"] = filtered_data[\"date\"].dt.round(\"10min\")\n"
     ]
    }
   ],
   "source": [
    "filtered_data[\"date\"] = filtered_data[\"date\"].dt.round(\"10min\")"
   ]
  },
  {
   "cell_type": "code",
   "execution_count": 31,
   "metadata": {},
   "outputs": [],
   "source": [
    "tweet_counts = filtered_data.groupby(['date', 'rain_gauge']).size().reset_index(name='count')\n",
    "result = tweet_counts.pivot(index='date', columns='rain_gauge', values='count')\n",
    "result = result.fillna(0).reset_index()"
   ]
  },
  {
   "cell_type": "code",
   "execution_count": 32,
   "metadata": {},
   "outputs": [],
   "source": [
    "total_data = pd.merge(time_series, result, left_on=\"time\", right_on=\"date\", how=\"left\")"
   ]
  },
  {
   "cell_type": "code",
   "execution_count": 33,
   "metadata": {},
   "outputs": [],
   "source": [
    "total_data[\"812A_tweets\"] = total_data[\"812A_tweets\"].fillna(0)\n",
    "total_data[\"833A_tweets\"] = total_data[\"833A_tweets\"].fillna(0)"
   ]
  },
  {
   "cell_type": "code",
   "execution_count": 34,
   "metadata": {},
   "outputs": [],
   "source": [
    "total_data = total_data.drop(columns=\"date\")"
   ]
  },
  {
   "cell_type": "markdown",
   "metadata": {},
   "source": [
    "## Floods"
   ]
  },
  {
   "cell_type": "code",
   "execution_count": 35,
   "metadata": {},
   "outputs": [],
   "source": [
    "floods_812A = pd.read_csv(FLOODS_812A)\n",
    "floods_812A[\"DATA\"] = pd.to_datetime(floods_812A[\"DATA\"])\n",
    "floods_812A = floods_812A[floods_812A[\"DATA\"] <= \"2019-03-31\"]\n",
    "floods_812A = floods_812A[[\"DATA\", \"H_INICIO\", \"H_FIM\"]]\n",
    "floods_812A[\"rain_gauge\"] = \"812A\""
   ]
  },
  {
   "cell_type": "code",
   "execution_count": 36,
   "metadata": {},
   "outputs": [],
   "source": [
    "floods_833A = pd.read_csv(FLOODS_833A)\n",
    "floods_833A[\"DATA\"] = pd.to_datetime(floods_833A[\"DATA\"])\n",
    "floods_833A = floods_833A[floods_833A[\"DATA\"] <= \"2019-03-31\"]\n",
    "floods_833A = floods_833A[[\"DATA\", \"H_INICIO\", \"H_FIM\"]]\n",
    "floods_833A[\"rain_gauge\"] = \"833A\""
   ]
  },
  {
   "cell_type": "code",
   "execution_count": 37,
   "metadata": {},
   "outputs": [],
   "source": [
    "floods = pd.concat([floods_812A, floods_833A])"
   ]
  },
  {
   "cell_type": "code",
   "execution_count": 38,
   "metadata": {},
   "outputs": [],
   "source": [
    "floods['DATA'] = floods['DATA'].astype(str)\n",
    "floods['H_INICIO'] = floods['H_INICIO'].astype(str)\n",
    "floods[\"date_start\"] = pd.to_datetime(floods['DATA'] + ' ' + floods['H_INICIO'])"
   ]
  },
  {
   "cell_type": "code",
   "execution_count": 39,
   "metadata": {},
   "outputs": [],
   "source": [
    "floods['DATA'] = floods['DATA'].astype(str)\n",
    "floods['H_FIM'] = floods['H_FIM'].astype(str)\n",
    "floods[\"date_end\"] = pd.to_datetime(floods['DATA'] + ' ' + floods['H_FIM'])"
   ]
  },
  {
   "cell_type": "code",
   "execution_count": 40,
   "metadata": {},
   "outputs": [],
   "source": [
    "floods = floods[[\"date_start\", \"date_end\", \"rain_gauge\"]]"
   ]
  },
  {
   "cell_type": "code",
   "execution_count": 41,
   "metadata": {},
   "outputs": [],
   "source": [
    "floods['date_start'] = floods['date_start'].dt.round('10min')\n",
    "floods['date_end'] = floods['date_end'].dt.round('10min')"
   ]
  },
  {
   "cell_type": "code",
   "execution_count": 42,
   "metadata": {},
   "outputs": [],
   "source": [
    "for gauge in floods['rain_gauge'].unique():\n",
    "    total_data[f\"{gauge}_flood\"] = 0"
   ]
  },
  {
   "cell_type": "code",
   "execution_count": null,
   "metadata": {},
   "outputs": [],
   "source": [
    "for _, row in floods.iterrows():\n",
    "    mask = (total_data[ 'time'] >= row['date_start']) & (total_data['time'] <= row['date_end'])\n",
    "    total_data.loc[mask, f\"{row['rain_gauge']}_flood\"] = 1"
   ]
  },
  {
   "cell_type": "code",
   "execution_count": 44,
   "metadata": {},
   "outputs": [],
   "source": [
    "total_data.to_csv(\"data/results/time_data.csv\", sep=\";\")"
   ]
  },
  {
   "cell_type": "markdown",
   "metadata": {},
   "source": [
    "## TODO: Analyze data below"
   ]
  },
  {
   "cell_type": "code",
   "execution_count": 77,
   "metadata": {},
   "outputs": [],
   "source": [
    "tweets_2016 = pd.read_csv(\"data/tweets/older_tweets.csv\")"
   ]
  },
  {
   "cell_type": "code",
   "execution_count": 78,
   "metadata": {},
   "outputs": [
    {
     "data": {
      "text/plain": [
       "'2016-11-07 11:10:29'"
      ]
     },
     "execution_count": 78,
     "metadata": {},
     "output_type": "execute_result"
    }
   ],
   "source": [
    "tweets_2016[\"created_at\"].min()"
   ]
  },
  {
   "cell_type": "code",
   "execution_count": 79,
   "metadata": {},
   "outputs": [
    {
     "data": {
      "text/plain": [
       "'2017-11-30 22:59:06'"
      ]
     },
     "execution_count": 79,
     "metadata": {},
     "output_type": "execute_result"
    }
   ],
   "source": [
    "tweets_2016[\"created_at\"].max()"
   ]
  },
  {
   "cell_type": "code",
   "execution_count": null,
   "metadata": {},
   "outputs": [
    {
     "data": {
      "text/html": [
       "<div>\n",
       "<style scoped>\n",
       "    .dataframe tbody tr th:only-of-type {\n",
       "        vertical-align: middle;\n",
       "    }\n",
       "\n",
       "    .dataframe tbody tr th {\n",
       "        vertical-align: top;\n",
       "    }\n",
       "\n",
       "    .dataframe thead th {\n",
       "        text-align: right;\n",
       "    }\n",
       "</style>\n",
       "<table border=\"1\" class=\"dataframe\">\n",
       "  <thead>\n",
       "    <tr style=\"text-align: right;\">\n",
       "      <th></th>\n",
       "      <th>id_str</th>\n",
       "      <th>user_id_str</th>\n",
       "      <th>created_at</th>\n",
       "      <th>retweeted</th>\n",
       "      <th>place_name</th>\n",
       "      <th>text</th>\n",
       "      <th>lon</th>\n",
       "      <th>lat</th>\n",
       "    </tr>\n",
       "  </thead>\n",
       "  <tbody>\n",
       "    <tr>\n",
       "      <th>0</th>\n",
       "      <td>795584202246914048</td>\n",
       "      <td>263713412.0</td>\n",
       "      <td>2016-11-07 11:10:29</td>\n",
       "      <td>False</td>\n",
       "      <td>São Paulo</td>\n",
       "      <td>\"Um dia de chuva é tao belo como um dia de sol...</td>\n",
       "      <td>-46.596707</td>\n",
       "      <td>-23.546177</td>\n",
       "    </tr>\n",
       "    <tr>\n",
       "      <th>1</th>\n",
       "      <td>795585546353451008</td>\n",
       "      <td>91708203.0</td>\n",
       "      <td>2016-11-07 11:15:50</td>\n",
       "      <td>False</td>\n",
       "      <td>São Paulo</td>\n",
       "      <td>\"Pela janela vejo fumaça, vejo pessoas. Nas ru...</td>\n",
       "      <td>-46.655219</td>\n",
       "      <td>-23.560577</td>\n",
       "    </tr>\n",
       "    <tr>\n",
       "      <th>2</th>\n",
       "      <td>795723230900273183</td>\n",
       "      <td>15907406.0</td>\n",
       "      <td>2016-11-07 20:22:56</td>\n",
       "      <td>False</td>\n",
       "      <td>São Paulo</td>\n",
       "      <td>Foto com o DanDan pra ver se desce uma chuva d...</td>\n",
       "      <td>-46.684396</td>\n",
       "      <td>-23.523800</td>\n",
       "    </tr>\n",
       "    <tr>\n",
       "      <th>3</th>\n",
       "      <td>796051717766971392</td>\n",
       "      <td>22717207.0</td>\n",
       "      <td>2016-11-08 18:08:14</td>\n",
       "      <td>False</td>\n",
       "      <td>São Paulo</td>\n",
       "      <td>Já estou com saudades de ver a chuva na sacada...</td>\n",
       "      <td>-46.546347</td>\n",
       "      <td>-23.529951</td>\n",
       "    </tr>\n",
       "    <tr>\n",
       "      <th>4</th>\n",
       "      <td>796062992697790464</td>\n",
       "      <td>32441166.0</td>\n",
       "      <td>2016-11-08 18:53:02</td>\n",
       "      <td>False</td>\n",
       "      <td>São Paulo</td>\n",
       "      <td>Venha receber a CHUVA DE TABERNÁCULOS para est...</td>\n",
       "      <td>-46.558000</td>\n",
       "      <td>-23.557795</td>\n",
       "    </tr>\n",
       "  </tbody>\n",
       "</table>\n",
       "</div>"
      ],
      "text/plain": [
       "               id_str  user_id_str           created_at  retweeted place_name  \\\n",
       "0  795584202246914048  263713412.0  2016-11-07 11:10:29      False  São Paulo   \n",
       "1  795585546353451008   91708203.0  2016-11-07 11:15:50      False  São Paulo   \n",
       "2  795723230900273183   15907406.0  2016-11-07 20:22:56      False  São Paulo   \n",
       "3  796051717766971392   22717207.0  2016-11-08 18:08:14      False  São Paulo   \n",
       "4  796062992697790464   32441166.0  2016-11-08 18:53:02      False  São Paulo   \n",
       "\n",
       "                                                text        lon        lat  \n",
       "0  \"Um dia de chuva é tao belo como um dia de sol... -46.596707 -23.546177  \n",
       "1  \"Pela janela vejo fumaça, vejo pessoas. Nas ru... -46.655219 -23.560577  \n",
       "2  Foto com o DanDan pra ver se desce uma chuva d... -46.684396 -23.523800  \n",
       "3  Já estou com saudades de ver a chuva na sacada... -46.546347 -23.529951  \n",
       "4  Venha receber a CHUVA DE TABERNÁCULOS para est... -46.558000 -23.557795  "
      ]
     },
     "execution_count": 80,
     "metadata": {},
     "output_type": "execute_result"
    }
   ],
   "source": [
    "tweets_2016.head()"
   ]
  },
  {
   "cell_type": "code",
   "execution_count": 81,
   "metadata": {},
   "outputs": [
    {
     "name": "stdout",
     "output_type": "stream",
     "text": [
      "<class 'pandas.core.frame.DataFrame'>\n",
      "RangeIndex: 8831 entries, 0 to 8830\n",
      "Data columns (total 8 columns):\n",
      " #   Column       Non-Null Count  Dtype  \n",
      "---  ------       --------------  -----  \n",
      " 0   id_str       8831 non-null   int64  \n",
      " 1   user_id_str  8831 non-null   float64\n",
      " 2   created_at   8831 non-null   object \n",
      " 3   retweeted    8831 non-null   bool   \n",
      " 4   place_name   8829 non-null   object \n",
      " 5   text         8831 non-null   object \n",
      " 6   lon          8831 non-null   float64\n",
      " 7   lat          8831 non-null   float64\n",
      "dtypes: bool(1), float64(3), int64(1), object(3)\n",
      "memory usage: 491.7+ KB\n"
     ]
    }
   ],
   "source": [
    "tweets_2016.info()"
   ]
  },
  {
   "cell_type": "code",
   "execution_count": null,
   "metadata": {},
   "outputs": [],
   "source": []
  }
 ],
 "metadata": {
  "kernelspec": {
   "display_name": "Python 3",
   "language": "python",
   "name": "python3"
  },
  "language_info": {
   "codemirror_mode": {
    "name": "ipython",
    "version": 3
   },
   "file_extension": ".py",
   "mimetype": "text/x-python",
   "name": "python",
   "nbconvert_exporter": "python",
   "pygments_lexer": "ipython3",
   "version": "3.12.6"
  }
 },
 "nbformat": 4,
 "nbformat_minor": 2
}
