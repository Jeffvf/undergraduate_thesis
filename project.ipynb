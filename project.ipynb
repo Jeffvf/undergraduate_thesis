{
 "cells": [
  {
   "cell_type": "code",
   "execution_count": 59,
   "metadata": {},
   "outputs": [],
   "source": [
    "import pandas as pd\n",
    "from datetime import datetime"
   ]
  },
  {
   "cell_type": "code",
   "execution_count": 60,
   "metadata": {},
   "outputs": [],
   "source": [
    "TWEETS_812A_JAN = \"data/tweets/812A_2019_JAN_2KM.csv\"\n",
    "TWEETS_812A_FEV = \"data/tweets/812A_2019_FEV_2KM.csv\"\n",
    "TWEETS_812A_MAR = \"data/tweets/812A_2019_MAR_2KM.csv\"\n",
    "TWEETS_833A = \"data/tweets/833A_2019_2KM.csv\""
   ]
  },
  {
   "cell_type": "code",
   "execution_count": 61,
   "metadata": {},
   "outputs": [],
   "source": [
    "RAIN_GAUGE_CODES = [\"355030812A\", \"355030833A\"]\n",
    "RAIN_GAUGES_JAN = \"data/rain_gauges/data1.csv\"\n",
    "RAIN_GAUGES_FEV = \"data/rain_gauges/data2.csv\"\n",
    "RAIN_GAUGES_MAR = \"data/rain_gauges/data3.csv\""
   ]
  },
  {
   "cell_type": "code",
   "execution_count": 62,
   "metadata": {},
   "outputs": [],
   "source": [
    "KEYWORDS = [\"chuva\", \"chove\", \"chuvoso\", \"chuvosa\", \"chuvarada\", \n",
    "            \"alagamento\", \"alagou\", \"inundação\", \"inundada\", \"enxurrada\",\n",
    "            \"rio transbordou\", \"córrego transbordou\", \"rio saiu da calha\", \n",
    "            \"córrego saiu da calha\", \"deslizamento\", \"escorregamento\", \"queda de barreira\"]"
   ]
  },
  {
   "cell_type": "markdown",
   "metadata": {},
   "source": [
    "## Time range creation"
   ]
  },
  {
   "cell_type": "code",
   "execution_count": 63,
   "metadata": {},
   "outputs": [],
   "source": [
    "DAYS_RANGE = datetime(2019, 4, 1) - datetime(2019, 1, 1) \n",
    "TIME_PERIOD = DAYS_RANGE.days * 24 * 6"
   ]
  },
  {
   "cell_type": "code",
   "execution_count": 64,
   "metadata": {},
   "outputs": [],
   "source": [
    "begin_date = datetime.strptime(\"01-01-2019\", \"%d-%m-%Y\")"
   ]
  },
  {
   "cell_type": "code",
   "execution_count": 65,
   "metadata": {},
   "outputs": [],
   "source": [
    "date_range = pd.date_range(begin_date, periods=TIME_PERIOD, freq=\"10min\")"
   ]
  },
  {
   "cell_type": "code",
   "execution_count": 66,
   "metadata": {},
   "outputs": [],
   "source": [
    "date_range = date_range.to_frame(index=False, name=\"time\")"
   ]
  },
  {
   "cell_type": "markdown",
   "metadata": {},
   "source": [
    "## Rain Gauge Data"
   ]
  },
  {
   "cell_type": "code",
   "execution_count": 67,
   "metadata": {},
   "outputs": [],
   "source": [
    "rain_gauges_jan = pd.read_csv(RAIN_GAUGES_JAN, sep=\";\", index_col=False, decimal=\".\")\n",
    "rain_gauges_fev = pd.read_csv(RAIN_GAUGES_FEV, sep=\";\", index_col=False)\n",
    "rain_gauges_mar = pd.read_csv(RAIN_GAUGES_MAR, sep=\";\", index_col=False)"
   ]
  },
  {
   "cell_type": "code",
   "execution_count": 68,
   "metadata": {},
   "outputs": [],
   "source": [
    "rain_gauges = pd.concat([rain_gauges_jan, rain_gauges_fev, rain_gauges_mar])"
   ]
  },
  {
   "cell_type": "code",
   "execution_count": 69,
   "metadata": {},
   "outputs": [],
   "source": [
    "filtered_rain_gauges = rain_gauges[rain_gauges[\"codEstacao\"].isin(RAIN_GAUGE_CODES)]"
   ]
  },
  {
   "cell_type": "code",
   "execution_count": 70,
   "metadata": {},
   "outputs": [
    {
     "name": "stderr",
     "output_type": "stream",
     "text": [
      "C:\\Users\\Jefferson\\AppData\\Local\\Temp\\ipykernel_10848\\3252865042.py:1: SettingWithCopyWarning: \n",
      "A value is trying to be set on a copy of a slice from a DataFrame.\n",
      "Try using .loc[row_indexer,col_indexer] = value instead\n",
      "\n",
      "See the caveats in the documentation: https://pandas.pydata.org/pandas-docs/stable/user_guide/indexing.html#returning-a-view-versus-a-copy\n",
      "  filtered_rain_gauges[\"datahora\"] = pd.to_datetime(filtered_rain_gauges[\"datahora\"])\n",
      "C:\\Users\\Jefferson\\AppData\\Local\\Temp\\ipykernel_10848\\3252865042.py:2: SettingWithCopyWarning: \n",
      "A value is trying to be set on a copy of a slice from a DataFrame.\n",
      "Try using .loc[row_indexer,col_indexer] = value instead\n",
      "\n",
      "See the caveats in the documentation: https://pandas.pydata.org/pandas-docs/stable/user_guide/indexing.html#returning-a-view-versus-a-copy\n",
      "  filtered_rain_gauges[\"valorMedida\"] = filtered_rain_gauges[\"valorMedida\"].str.replace(\",\", \".\")\n",
      "C:\\Users\\Jefferson\\AppData\\Local\\Temp\\ipykernel_10848\\3252865042.py:3: SettingWithCopyWarning: \n",
      "A value is trying to be set on a copy of a slice from a DataFrame.\n",
      "Try using .loc[row_indexer,col_indexer] = value instead\n",
      "\n",
      "See the caveats in the documentation: https://pandas.pydata.org/pandas-docs/stable/user_guide/indexing.html#returning-a-view-versus-a-copy\n",
      "  filtered_rain_gauges[\"valorMedida\"] = pd.to_numeric(filtered_rain_gauges[\"valorMedida\"])\n"
     ]
    }
   ],
   "source": [
    "filtered_rain_gauges[\"datahora\"] = pd.to_datetime(filtered_rain_gauges[\"datahora\"])\n",
    "filtered_rain_gauges[\"valorMedida\"] = filtered_rain_gauges[\"valorMedida\"].str.replace(\",\", \".\")\n",
    "filtered_rain_gauges[\"valorMedida\"] = pd.to_numeric(filtered_rain_gauges[\"valorMedida\"])"
   ]
  },
  {
   "cell_type": "code",
   "execution_count": 71,
   "metadata": {},
   "outputs": [],
   "source": [
    "filtered_rain_gauges = filtered_rain_gauges[[\"codEstacao\", \"datahora\", \"valorMedida\"]]"
   ]
  },
  {
   "cell_type": "code",
   "execution_count": 72,
   "metadata": {},
   "outputs": [],
   "source": [
    "rain_gauge_812A = filtered_rain_gauges[filtered_rain_gauges[\"codEstacao\"] == \"355030812A\"]"
   ]
  },
  {
   "cell_type": "code",
   "execution_count": 73,
   "metadata": {},
   "outputs": [],
   "source": [
    "rain_gauge_833A = filtered_rain_gauges[filtered_rain_gauges[\"codEstacao\"] == \"355030833A\"]"
   ]
  },
  {
   "cell_type": "code",
   "execution_count": 74,
   "metadata": {},
   "outputs": [],
   "source": [
    "time_series = pd.merge(date_range, rain_gauge_812A, left_on=\"time\", right_on=\"datahora\", how=\"left\")"
   ]
  },
  {
   "cell_type": "code",
   "execution_count": 75,
   "metadata": {},
   "outputs": [],
   "source": [
    "time_series = time_series.drop(columns=[\"codEstacao\", \"datahora\"])\n",
    "time_series = time_series.rename(columns={\"valorMedida\": \"812A\"})\n",
    "time_series[\"812A\"] = time_series[\"812A\"].fillna(0)"
   ]
  },
  {
   "cell_type": "code",
   "execution_count": 76,
   "metadata": {},
   "outputs": [],
   "source": [
    "time_series = pd.merge(time_series, rain_gauge_833A, left_on=\"time\", right_on=\"datahora\", how=\"left\")"
   ]
  },
  {
   "cell_type": "code",
   "execution_count": 77,
   "metadata": {},
   "outputs": [],
   "source": [
    "time_series = time_series.drop(columns=[\"codEstacao\", \"datahora\"])\n",
    "time_series = time_series.rename(columns={\"valorMedida\": \"833A\"})\n",
    "time_series[\"833A\"] = time_series[\"833A\"].fillna(0)"
   ]
  },
  {
   "cell_type": "code",
   "execution_count": 85,
   "metadata": {},
   "outputs": [
    {
     "data": {
      "text/html": [
       "<div>\n",
       "<style scoped>\n",
       "    .dataframe tbody tr th:only-of-type {\n",
       "        vertical-align: middle;\n",
       "    }\n",
       "\n",
       "    .dataframe tbody tr th {\n",
       "        vertical-align: top;\n",
       "    }\n",
       "\n",
       "    .dataframe thead th {\n",
       "        text-align: right;\n",
       "    }\n",
       "</style>\n",
       "<table border=\"1\" class=\"dataframe\">\n",
       "  <thead>\n",
       "    <tr style=\"text-align: right;\">\n",
       "      <th></th>\n",
       "      <th>time</th>\n",
       "      <th>812A</th>\n",
       "      <th>833A</th>\n",
       "    </tr>\n",
       "  </thead>\n",
       "  <tbody>\n",
       "    <tr>\n",
       "      <th>0</th>\n",
       "      <td>2019-01-01 00:00:00</td>\n",
       "      <td>0.0</td>\n",
       "      <td>0.0</td>\n",
       "    </tr>\n",
       "    <tr>\n",
       "      <th>1</th>\n",
       "      <td>2019-01-01 00:10:00</td>\n",
       "      <td>0.0</td>\n",
       "      <td>0.0</td>\n",
       "    </tr>\n",
       "    <tr>\n",
       "      <th>2</th>\n",
       "      <td>2019-01-01 00:20:00</td>\n",
       "      <td>0.0</td>\n",
       "      <td>0.0</td>\n",
       "    </tr>\n",
       "    <tr>\n",
       "      <th>3</th>\n",
       "      <td>2019-01-01 00:30:00</td>\n",
       "      <td>0.0</td>\n",
       "      <td>0.0</td>\n",
       "    </tr>\n",
       "    <tr>\n",
       "      <th>4</th>\n",
       "      <td>2019-01-01 00:40:00</td>\n",
       "      <td>0.0</td>\n",
       "      <td>0.0</td>\n",
       "    </tr>\n",
       "  </tbody>\n",
       "</table>\n",
       "</div>"
      ],
      "text/plain": [
       "                 time  812A  833A\n",
       "0 2019-01-01 00:00:00   0.0   0.0\n",
       "1 2019-01-01 00:10:00   0.0   0.0\n",
       "2 2019-01-01 00:20:00   0.0   0.0\n",
       "3 2019-01-01 00:30:00   0.0   0.0\n",
       "4 2019-01-01 00:40:00   0.0   0.0"
      ]
     },
     "execution_count": 85,
     "metadata": {},
     "output_type": "execute_result"
    }
   ],
   "source": [
    "time_series.head()"
   ]
  },
  {
   "cell_type": "markdown",
   "metadata": {},
   "source": [
    "## Tweet data"
   ]
  },
  {
   "cell_type": "code",
   "execution_count": 79,
   "metadata": {},
   "outputs": [],
   "source": [
    "tweets_812A_jan = pd.read_csv(TWEETS_812A_JAN)\n",
    "tweets_812A_fev = pd.read_csv(TWEETS_812A_FEV)\n",
    "tweets_812_mar = pd.read_csv(TWEETS_812A_MAR)\n",
    "tweets_812 = pd.concat([tweets_812A_jan, tweets_812A_fev, tweets_812_mar])"
   ]
  },
  {
   "cell_type": "code",
   "execution_count": 80,
   "metadata": {},
   "outputs": [],
   "source": [
    "tweets_833 = pd.read_csv(TWEETS_833A)"
   ]
  },
  {
   "cell_type": "code",
   "execution_count": 81,
   "metadata": {},
   "outputs": [],
   "source": [
    "tweets = pd.concat([tweets_812, tweets_833])"
   ]
  },
  {
   "cell_type": "code",
   "execution_count": 82,
   "metadata": {},
   "outputs": [],
   "source": [
    "tweet_data = tweets[[\"date\", \"text\"]]"
   ]
  },
  {
   "cell_type": "code",
   "execution_count": 83,
   "metadata": {},
   "outputs": [],
   "source": [
    "pattern = \"|\".join(KEYWORDS)"
   ]
  },
  {
   "cell_type": "code",
   "execution_count": 84,
   "metadata": {},
   "outputs": [],
   "source": [
    "filtered_data = tweet_data[tweet_data[\"text\"].str.contains(pattern, case=False, na=False)]"
   ]
  },
  {
   "cell_type": "code",
   "execution_count": 93,
   "metadata": {},
   "outputs": [],
   "source": [
    "filtered_data.loc[:, \"date\"] = pd.to_datetime(filtered_data[\"date\"])"
   ]
  },
  {
   "cell_type": "code",
   "execution_count": 92,
   "metadata": {},
   "outputs": [],
   "source": [
    "filtered_data.loc[:, \"date\"] = filtered_data[\"date\"].dt.round(\"10min\")"
   ]
  },
  {
   "cell_type": "code",
   "execution_count": 97,
   "metadata": {},
   "outputs": [],
   "source": [
    "tweet_count = filtered_data.groupby('date').size().reset_index(name='tweet_count')"
   ]
  },
  {
   "cell_type": "code",
   "execution_count": 110,
   "metadata": {},
   "outputs": [],
   "source": [
    "total_data = pd.merge(time_series, tweet_count, left_on=\"time\", right_on=\"date\", how=\"left\")"
   ]
  },
  {
   "cell_type": "code",
   "execution_count": 111,
   "metadata": {},
   "outputs": [],
   "source": [
    "total_data = total_data.drop(columns=\"date\")"
   ]
  },
  {
   "cell_type": "code",
   "execution_count": 115,
   "metadata": {},
   "outputs": [],
   "source": [
    "total_data[\"tweet_count\"] = total_data[\"tweet_count\"].fillna(0)\n",
    "total_data[\"tweet_count\"] = total_data[\"tweet_count\"].astype(int)"
   ]
  },
  {
   "cell_type": "code",
   "execution_count": 119,
   "metadata": {},
   "outputs": [],
   "source": [
    "total_data.to_csv(\"data/results/time_data.csv\", sep=\";\")"
   ]
  }
 ],
 "metadata": {
  "kernelspec": {
   "display_name": "Python 3",
   "language": "python",
   "name": "python3"
  },
  "language_info": {
   "codemirror_mode": {
    "name": "ipython",
    "version": 3
   },
   "file_extension": ".py",
   "mimetype": "text/x-python",
   "name": "python",
   "nbconvert_exporter": "python",
   "pygments_lexer": "ipython3",
   "version": "3.12.6"
  }
 },
 "nbformat": 4,
 "nbformat_minor": 2
}
