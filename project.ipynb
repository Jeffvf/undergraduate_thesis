{
 "cells": [
  {
   "cell_type": "code",
   "execution_count": null,
   "metadata": {},
   "outputs": [],
   "source": [
    "import pandas as pd\n",
    "from datetime import datetime"
   ]
  },
  {
   "cell_type": "code",
   "execution_count": 2,
   "metadata": {},
   "outputs": [],
   "source": [
    "TWEETS_812A_JAN = \"data/tweets/812A_2019_JAN_2KM.csv\"\n",
    "TWEETS_812A_FEV = \"data/tweets/812A_2019_FEV_2KM.csv\"\n",
    "TWEETS_812A_MAR = \"data/tweets/812A_2019_MAR_2KM.csv\"\n",
    "TWEETS_833A = \"data/tweets/833A_2019_2KM.csv\""
   ]
  },
  {
   "cell_type": "code",
   "execution_count": 3,
   "metadata": {},
   "outputs": [],
   "source": [
    "KEYWORDS = [\"chuva\", \"chove\", \"chuvoso\", \"chuvosa\", \"chuvarada\", \n",
    "            \"alagamento\", \"alagou\", \"inundação\", \"inundada\", \"enxurrada\",\n",
    "            \"rio transbordou\", \"córrego transbordou\", \"rio saiu da calha\", \n",
    "            \"córrego saiu da calha\", \"deslizamento\", \"escorregamento\", \"queda de barreira\"]"
   ]
  },
  {
   "cell_type": "markdown",
   "metadata": {},
   "source": [
    "## Time range creation"
   ]
  },
  {
   "cell_type": "code",
   "execution_count": 4,
   "metadata": {},
   "outputs": [],
   "source": [
    "DAYS_RANGE = datetime(2019, 4, 1) - datetime(2019, 1, 1) \n",
    "TIME_PERIOD = DAYS_RANGE.days * 24 * 6"
   ]
  },
  {
   "cell_type": "code",
   "execution_count": 11,
   "metadata": {},
   "outputs": [],
   "source": [
    "begin_date = datetime.strptime(\"01-01-2022\", \"%d-%m-%Y\")"
   ]
  },
  {
   "cell_type": "code",
   "execution_count": 19,
   "metadata": {},
   "outputs": [],
   "source": [
    "date_range = pd.date_range(begin_date, periods=TIME_PERIOD, freq=\"10min\")"
   ]
  },
  {
   "cell_type": "markdown",
   "metadata": {},
   "source": [
    "## Tweet data"
   ]
  },
  {
   "cell_type": "code",
   "execution_count": 5,
   "metadata": {},
   "outputs": [],
   "source": [
    "tweets_812A_jan = pd.read_csv(TWEETS_812A_JAN)\n",
    "tweets_812A_fev = pd.read_csv(TWEETS_812A_FEV)\n",
    "tweets_812_mar = pd.read_csv(TWEETS_812A_MAR)\n",
    "tweets_812 = pd.concat([tweets_812A_jan, tweets_812A_fev, tweets_812_mar])"
   ]
  },
  {
   "cell_type": "code",
   "execution_count": 6,
   "metadata": {},
   "outputs": [],
   "source": [
    "tweets_833 = pd.read_csv(TWEETS_833A)"
   ]
  },
  {
   "cell_type": "code",
   "execution_count": 7,
   "metadata": {},
   "outputs": [],
   "source": [
    "tweets = pd.concat([tweets_812, tweets_833])"
   ]
  },
  {
   "cell_type": "code",
   "execution_count": 8,
   "metadata": {},
   "outputs": [],
   "source": [
    "tweet_data = tweets[[\"date\", \"text\"]]"
   ]
  },
  {
   "cell_type": "code",
   "execution_count": 9,
   "metadata": {},
   "outputs": [],
   "source": [
    "pattern = \"|\".join(KEYWORDS)"
   ]
  },
  {
   "cell_type": "code",
   "execution_count": 10,
   "metadata": {},
   "outputs": [],
   "source": [
    "filtered_data = tweet_data[tweet_data[\"text\"].str.contains(pattern, case=False, na=False)]"
   ]
  }
 ],
 "metadata": {
  "kernelspec": {
   "display_name": "Python 3",
   "language": "python",
   "name": "python3"
  },
  "language_info": {
   "codemirror_mode": {
    "name": "ipython",
    "version": 3
   },
   "file_extension": ".py",
   "mimetype": "text/x-python",
   "name": "python",
   "nbconvert_exporter": "python",
   "pygments_lexer": "ipython3",
   "version": "3.12.6"
  }
 },
 "nbformat": 4,
 "nbformat_minor": 2
}
