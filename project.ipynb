{
 "cells": [
  {
   "cell_type": "code",
   "execution_count": null,
   "metadata": {},
   "outputs": [],
   "source": [
    "import pandas as pd\n",
    "from datetime import datetime"
   ]
  },
  {
   "cell_type": "code",
   "execution_count": 2,
   "metadata": {},
   "outputs": [],
   "source": [
    "TWEETS_812A_JAN = \"data/tweets/812A_2019_JAN_2KM.csv\"\n",
    "TWEETS_812A_FEV = \"data/tweets/812A_2019_FEV_2KM.csv\"\n",
    "TWEETS_812A_MAR = \"data/tweets/812A_2019_MAR_2KM.csv\"\n",
    "TWEETS_833A = \"data/tweets/833A_2019_2KM.csv\""
   ]
  },
  {
   "cell_type": "code",
   "execution_count": 41,
   "metadata": {},
   "outputs": [],
   "source": [
    "RAIN_GAUGE_CODES = [\"355030812A\", \"355030833A\"]\n",
    "RAIN_GAUGES_JAN = \"data/rain_gauges/data1.csv\"\n",
    "RAIN_GAUGES_FEV = \"data/rain_gauges/data2.csv\"\n",
    "RAIN_GAUGES_MAR = \"data/rain_gauges/data3.csv\""
   ]
  },
  {
   "cell_type": "code",
   "execution_count": 3,
   "metadata": {},
   "outputs": [],
   "source": [
    "KEYWORDS = [\"chuva\", \"chove\", \"chuvoso\", \"chuvosa\", \"chuvarada\", \n",
    "            \"alagamento\", \"alagou\", \"inundação\", \"inundada\", \"enxurrada\",\n",
    "            \"rio transbordou\", \"córrego transbordou\", \"rio saiu da calha\", \n",
    "            \"córrego saiu da calha\", \"deslizamento\", \"escorregamento\", \"queda de barreira\"]"
   ]
  },
  {
   "cell_type": "markdown",
   "metadata": {},
   "source": [
    "## Time range creation"
   ]
  },
  {
   "cell_type": "code",
   "execution_count": 4,
   "metadata": {},
   "outputs": [],
   "source": [
    "DAYS_RANGE = datetime(2019, 4, 1) - datetime(2019, 1, 1) \n",
    "TIME_PERIOD = DAYS_RANGE.days * 24 * 6"
   ]
  },
  {
   "cell_type": "code",
   "execution_count": 54,
   "metadata": {},
   "outputs": [],
   "source": [
    "begin_date = datetime.strptime(\"01-01-2019\", \"%d-%m-%Y\")"
   ]
  },
  {
   "cell_type": "code",
   "execution_count": 55,
   "metadata": {},
   "outputs": [],
   "source": [
    "date_range = pd.date_range(begin_date, periods=TIME_PERIOD, freq=\"10min\")"
   ]
  },
  {
   "cell_type": "markdown",
   "metadata": {},
   "source": [
    "## Rain Gauge Data"
   ]
  },
  {
   "cell_type": "code",
   "execution_count": 44,
   "metadata": {},
   "outputs": [],
   "source": [
    "rain_gauges_jan = pd.read_csv(RAIN_GAUGES_JAN, sep=\";\", index_col=False)\n",
    "rain_gauges_fev = pd.read_csv(RAIN_GAUGES_FEV, sep=\";\", index_col=False)\n",
    "rain_gauges_mar = pd.read_csv(RAIN_GAUGES_MAR, sep=\";\", index_col=False)"
   ]
  },
  {
   "cell_type": "code",
   "execution_count": 47,
   "metadata": {},
   "outputs": [],
   "source": [
    "rain_gauges = pd.concat([rain_gauges_jan, rain_gauges_fev, rain_gauges_mar])"
   ]
  },
  {
   "cell_type": "code",
   "execution_count": 49,
   "metadata": {},
   "outputs": [],
   "source": [
    "filtered_rain_gauges = rain_gauges[rain_gauges[\"codEstacao\"].isin(RAIN_GAUGE_CODES)]"
   ]
  },
  {
   "cell_type": "code",
   "execution_count": 57,
   "metadata": {},
   "outputs": [
    {
     "data": {
      "text/html": [
       "<div>\n",
       "<style scoped>\n",
       "    .dataframe tbody tr th:only-of-type {\n",
       "        vertical-align: middle;\n",
       "    }\n",
       "\n",
       "    .dataframe tbody tr th {\n",
       "        vertical-align: top;\n",
       "    }\n",
       "\n",
       "    .dataframe thead th {\n",
       "        text-align: right;\n",
       "    }\n",
       "</style>\n",
       "<table border=\"1\" class=\"dataframe\">\n",
       "  <thead>\n",
       "    <tr style=\"text-align: right;\">\n",
       "      <th></th>\n",
       "      <th>codEstacao</th>\n",
       "      <th>datahora</th>\n",
       "      <th>valorMedida</th>\n",
       "    </tr>\n",
       "  </thead>\n",
       "  <tbody>\n",
       "    <tr>\n",
       "      <th>7267</th>\n",
       "      <td>355030812A</td>\n",
       "      <td>2019-01-01 00:20:00.0</td>\n",
       "      <td>0,00</td>\n",
       "    </tr>\n",
       "    <tr>\n",
       "      <th>7268</th>\n",
       "      <td>355030812A</td>\n",
       "      <td>2019-01-01 01:20:00.0</td>\n",
       "      <td>0,00</td>\n",
       "    </tr>\n",
       "    <tr>\n",
       "      <th>7269</th>\n",
       "      <td>355030812A</td>\n",
       "      <td>2019-01-01 02:20:00.0</td>\n",
       "      <td>0,00</td>\n",
       "    </tr>\n",
       "    <tr>\n",
       "      <th>7270</th>\n",
       "      <td>355030812A</td>\n",
       "      <td>2019-01-01 03:20:00.0</td>\n",
       "      <td>0,00</td>\n",
       "    </tr>\n",
       "    <tr>\n",
       "      <th>7271</th>\n",
       "      <td>355030812A</td>\n",
       "      <td>2019-01-01 04:20:00.0</td>\n",
       "      <td>0,00</td>\n",
       "    </tr>\n",
       "    <tr>\n",
       "      <th>...</th>\n",
       "      <td>...</td>\n",
       "      <td>...</td>\n",
       "      <td>...</td>\n",
       "    </tr>\n",
       "    <tr>\n",
       "      <th>22028</th>\n",
       "      <td>355030833A</td>\n",
       "      <td>2019-03-31 19:50:00.0</td>\n",
       "      <td>0,00</td>\n",
       "    </tr>\n",
       "    <tr>\n",
       "      <th>22029</th>\n",
       "      <td>355030833A</td>\n",
       "      <td>2019-03-31 20:50:00.0</td>\n",
       "      <td>0,00</td>\n",
       "    </tr>\n",
       "    <tr>\n",
       "      <th>22030</th>\n",
       "      <td>355030833A</td>\n",
       "      <td>2019-03-31 21:50:00.0</td>\n",
       "      <td>0,00</td>\n",
       "    </tr>\n",
       "    <tr>\n",
       "      <th>22031</th>\n",
       "      <td>355030833A</td>\n",
       "      <td>2019-03-31 22:50:00.0</td>\n",
       "      <td>0,00</td>\n",
       "    </tr>\n",
       "    <tr>\n",
       "      <th>22032</th>\n",
       "      <td>355030833A</td>\n",
       "      <td>2019-03-31 23:50:00.0</td>\n",
       "      <td>0,00</td>\n",
       "    </tr>\n",
       "  </tbody>\n",
       "</table>\n",
       "<p>9568 rows × 3 columns</p>\n",
       "</div>"
      ],
      "text/plain": [
       "       codEstacao               datahora valorMedida\n",
       "7267   355030812A  2019-01-01 00:20:00.0        0,00\n",
       "7268   355030812A  2019-01-01 01:20:00.0        0,00\n",
       "7269   355030812A  2019-01-01 02:20:00.0        0,00\n",
       "7270   355030812A  2019-01-01 03:20:00.0        0,00\n",
       "7271   355030812A  2019-01-01 04:20:00.0        0,00\n",
       "...           ...                    ...         ...\n",
       "22028  355030833A  2019-03-31 19:50:00.0        0,00\n",
       "22029  355030833A  2019-03-31 20:50:00.0        0,00\n",
       "22030  355030833A  2019-03-31 21:50:00.0        0,00\n",
       "22031  355030833A  2019-03-31 22:50:00.0        0,00\n",
       "22032  355030833A  2019-03-31 23:50:00.0        0,00\n",
       "\n",
       "[9568 rows x 3 columns]"
      ]
     },
     "execution_count": 57,
     "metadata": {},
     "output_type": "execute_result"
    }
   ],
   "source": [
    "filtered_rain_gauges[[\"codEstacao\", \"datahora\", \"valorMedida\"]]"
   ]
  },
  {
   "cell_type": "markdown",
   "metadata": {},
   "source": [
    "## Tweet data"
   ]
  },
  {
   "cell_type": "code",
   "execution_count": 5,
   "metadata": {},
   "outputs": [],
   "source": [
    "tweets_812A_jan = pd.read_csv(TWEETS_812A_JAN)\n",
    "tweets_812A_fev = pd.read_csv(TWEETS_812A_FEV)\n",
    "tweets_812_mar = pd.read_csv(TWEETS_812A_MAR)\n",
    "tweets_812 = pd.concat([tweets_812A_jan, tweets_812A_fev, tweets_812_mar])"
   ]
  },
  {
   "cell_type": "code",
   "execution_count": 6,
   "metadata": {},
   "outputs": [],
   "source": [
    "tweets_833 = pd.read_csv(TWEETS_833A)"
   ]
  },
  {
   "cell_type": "code",
   "execution_count": 7,
   "metadata": {},
   "outputs": [],
   "source": [
    "tweets = pd.concat([tweets_812, tweets_833])"
   ]
  },
  {
   "cell_type": "code",
   "execution_count": 8,
   "metadata": {},
   "outputs": [],
   "source": [
    "tweet_data = tweets[[\"date\", \"text\"]]"
   ]
  },
  {
   "cell_type": "code",
   "execution_count": 9,
   "metadata": {},
   "outputs": [],
   "source": [
    "pattern = \"|\".join(KEYWORDS)"
   ]
  },
  {
   "cell_type": "code",
   "execution_count": 10,
   "metadata": {},
   "outputs": [],
   "source": [
    "filtered_data = tweet_data[tweet_data[\"text\"].str.contains(pattern, case=False, na=False)]"
   ]
  }
 ],
 "metadata": {
  "kernelspec": {
   "display_name": "Python 3",
   "language": "python",
   "name": "python3"
  },
  "language_info": {
   "codemirror_mode": {
    "name": "ipython",
    "version": 3
   },
   "file_extension": ".py",
   "mimetype": "text/x-python",
   "name": "python",
   "nbconvert_exporter": "python",
   "pygments_lexer": "ipython3",
   "version": "3.12.6"
  }
 },
 "nbformat": 4,
 "nbformat_minor": 2
}
