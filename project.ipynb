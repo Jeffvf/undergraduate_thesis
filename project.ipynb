{
 "cells": [
  {
   "cell_type": "code",
   "execution_count": 102,
   "metadata": {},
   "outputs": [],
   "source": [
    "import pandas as pd\n",
    "from datetime import datetime, date"
   ]
  },
  {
   "cell_type": "code",
   "execution_count": 29,
   "metadata": {},
   "outputs": [],
   "source": [
    "TWEETS_812A_JAN = \"data/tweets/812A_2019_JAN_2KM.csv\"\n",
    "TWEETS_812A_FEV = \"data/tweets/812A_2019_FEV_2KM.csv\"\n",
    "TWEETS_812A_MAR = \"data/tweets/812A_2019_MAR_2KM.csv\"\n",
    "TWEETS_833A = \"data/tweets/833A_2019_2KM.csv\""
   ]
  },
  {
   "cell_type": "code",
   "execution_count": 67,
   "metadata": {},
   "outputs": [],
   "source": [
    "KEYWORDS = [\"chuva\", \"chove\", \"chuvoso\", \"chuvosa\", \"chuvarada\", \n",
    "            \"alagamento\", \"alagou\", \"inundação\", \"inundada\", \"enxurrada\",\n",
    "            \"rio transbordou\", \"córrego transbordou\", \"rio saiu da calha\", \n",
    "            \"córrego saiu da calha\", \"deslizamento\", \"escorregamento\", \"queda de barreira\"]"
   ]
  },
  {
   "cell_type": "code",
   "execution_count": 124,
   "metadata": {},
   "outputs": [],
   "source": [
    "DAYS_RANGE = datetime(2019, 4, 1) - datetime(2019, 1, 1) \n",
    "TIME_PERIOD = DAYS_RANGE.days * 24 * 6"
   ]
  },
  {
   "cell_type": "code",
   "execution_count": null,
   "metadata": {},
   "outputs": [],
   "source": [
    "tweets_812A_jan = pd.read_csv(TWEETS_812A_JAN)\n",
    "tweets_812A_fev = pd.read_csv(TWEETS_812A_FEV)\n",
    "tweets_812_mar = pd.read_csv(TWEETS_812A_MAR)\n",
    "tweets_812 = pd.concat([tweets_812A_jan, tweets_812A_fev, tweets_812_mar])"
   ]
  },
  {
   "cell_type": "code",
   "execution_count": 30,
   "metadata": {},
   "outputs": [],
   "source": [
    "tweets_833 = pd.read_csv(TWEETS_833A)"
   ]
  },
  {
   "cell_type": "code",
   "execution_count": 31,
   "metadata": {},
   "outputs": [],
   "source": [
    "tweets = pd.concat([tweets_812, tweets_833])"
   ]
  },
  {
   "cell_type": "code",
   "execution_count": 35,
   "metadata": {},
   "outputs": [],
   "source": [
    "tweet_data = tweets[[\"date\", \"text\"]]"
   ]
  },
  {
   "cell_type": "code",
   "execution_count": 74,
   "metadata": {},
   "outputs": [],
   "source": [
    "pattern = \"|\".join(KEYWORDS)"
   ]
  },
  {
   "cell_type": "code",
   "execution_count": 75,
   "metadata": {},
   "outputs": [],
   "source": [
    "filtered_data = tweet_data[tweet_data[\"text\"].str.contains(pattern, case=False, na=False)]"
   ]
  },
  {
   "cell_type": "code",
   "execution_count": 122,
   "metadata": {},
   "outputs": [],
   "source": [
    "begin_date = datetime.strptime(\"01-01-2022\", \"%d-%m-%Y\")"
   ]
  },
  {
   "cell_type": "code",
   "execution_count": 126,
   "metadata": {},
   "outputs": [],
   "source": [
    "date_range = pd.date_range(begin_date, periods=TIME_PERIOD, freq=\"10min\")"
   ]
  },
  {
   "cell_type": "code",
   "execution_count": 127,
   "metadata": {},
   "outputs": [
    {
     "data": {
      "text/plain": [
       "DatetimeIndex(['2022-01-01 00:00:00', '2022-01-01 00:10:00',\n",
       "               '2022-01-01 00:20:00', '2022-01-01 00:30:00',\n",
       "               '2022-01-01 00:40:00', '2022-01-01 00:50:00',\n",
       "               '2022-01-01 01:00:00', '2022-01-01 01:10:00',\n",
       "               '2022-01-01 01:20:00', '2022-01-01 01:30:00',\n",
       "               ...\n",
       "               '2022-03-31 22:20:00', '2022-03-31 22:30:00',\n",
       "               '2022-03-31 22:40:00', '2022-03-31 22:50:00',\n",
       "               '2022-03-31 23:00:00', '2022-03-31 23:10:00',\n",
       "               '2022-03-31 23:20:00', '2022-03-31 23:30:00',\n",
       "               '2022-03-31 23:40:00', '2022-03-31 23:50:00'],\n",
       "              dtype='datetime64[ns]', length=12960, freq='10min')"
      ]
     },
     "execution_count": 127,
     "metadata": {},
     "output_type": "execute_result"
    }
   ],
   "source": [
    "date_range"
   ]
  },
  {
   "cell_type": "code",
   "execution_count": null,
   "metadata": {},
   "outputs": [],
   "source": []
  }
 ],
 "metadata": {
  "kernelspec": {
   "display_name": "Python 3",
   "language": "python",
   "name": "python3"
  },
  "language_info": {
   "codemirror_mode": {
    "name": "ipython",
    "version": 3
   },
   "file_extension": ".py",
   "mimetype": "text/x-python",
   "name": "python",
   "nbconvert_exporter": "python",
   "pygments_lexer": "ipython3",
   "version": "3.12.6"
  }
 },
 "nbformat": 4,
 "nbformat_minor": 2
}
