{
 "cells": [
  {
   "cell_type": "code",
   "execution_count": 48,
   "metadata": {},
   "outputs": [],
   "source": [
    "import matplotlib.pyplot as plt\n",
    "import pandas as pd\n",
    "import torch\n",
    "import torch.nn as nn\n",
    "import torch.nn.functional as F\n",
    "from torch.nn.utils.rnn import pad_sequence\n",
    "from sklearn.preprocessing import MinMaxScaler\n",
    "from sklearn.metrics import confusion_matrix, classification_report\n",
    "import numpy as np\n",
    "from imblearn.over_sampling import SMOTE\n",
    "from torch.utils.data import Dataset, DataLoader\n",
    "import seaborn as sns"
   ]
  },
  {
   "cell_type": "markdown",
   "metadata": {},
   "source": [
    "# Setup"
   ]
  },
  {
   "cell_type": "code",
   "execution_count": 49,
   "metadata": {},
   "outputs": [
    {
     "name": "stderr",
     "output_type": "stream",
     "text": [
      "C:\\Users\\Jefferson\\AppData\\Local\\Temp\\ipykernel_4540\\3960761302.py:2: FutureWarning: In a future version of pandas, parsing datetimes with mixed time zones will raise an error unless `utc=True`. Please specify `utc=True` to opt in to the new behaviour and silence this warning. To create a `Series` with mixed offsets and `object` dtype, please use `apply` and `datetime.datetime.strptime`\n",
      "  df[\"time\"] = pd.to_datetime(df[\"time\"])\n"
     ]
    }
   ],
   "source": [
    "df = pd.read_csv(\"data/results/time_data.csv\", sep=\";\")\n",
    "df[\"time\"] = pd.to_datetime(df[\"time\"])"
   ]
  },
  {
   "cell_type": "code",
   "execution_count": 50,
   "metadata": {},
   "outputs": [],
   "source": [
    "class FloodDataset(Dataset):\n",
    "    def __init__(self, data, sequence_length, predict_ahead):\n",
    "        self.data = data\n",
    "        self.sequence_length = sequence_length\n",
    "        self.predict_ahead = predict_ahead\n",
    "\n",
    "    def __len__(self):\n",
    "        # Ensure length is non-negative\n",
    "        return max(0, len(self.data) - self.sequence_length - self.predict_ahead + 1)\n",
    "\n",
    "    def __getitem__(self, idx):\n",
    "        if idx < 0 or idx >= len(self):\n",
    "            raise IndexError(f\"Index {idx} is out of bounds for dataset of size {len(self)}\")\n",
    "        \n",
    "        # Input sequence: rain_gauge_1 and rain_gauge_2 for the past `sequence_length` time steps\n",
    "        x = self.data[idx:idx+self.sequence_length, :-1]\n",
    "        \n",
    "        y = self.data[idx+self.sequence_length + self.predict_ahead - 1, -1]\n",
    "        \n",
    "        x = torch.tensor(x, dtype=torch.float32)\n",
    "        y = torch.tensor(y, dtype=torch.float32)\n",
    "        \n",
    "        return x, y"
   ]
  },
  {
   "cell_type": "code",
   "execution_count": 51,
   "metadata": {},
   "outputs": [],
   "source": [
    "class MLP(nn.Module):\n",
    "    def __init__(self, input_size, hidden_size, output_size):\n",
    "        super(MLP, self).__init__()\n",
    "        self.fc1 = nn.Linear(input_size, hidden_size)\n",
    "        self.fc2 = nn.Linear(hidden_size, hidden_size)\n",
    "        self.fc3 = nn.Linear(hidden_size, output_size)\n",
    "        self.sigmoid = nn.Sigmoid()\n",
    "\n",
    "    def forward(self, x):\n",
    "        # Flatten the input sequence\n",
    "        x = x.view(x.size(0), -1)  # Flatten all dimensions except the batch dimension\n",
    "        x = F.relu(self.fc1(x))\n",
    "        x = F.relu(self.fc2(x))\n",
    "        x = self.fc3(x)\n",
    "        return self.sigmoid(x)"
   ]
  },
  {
   "cell_type": "code",
   "execution_count": 52,
   "metadata": {},
   "outputs": [],
   "source": [
    "def collate_fn(batch):\n",
    "    # Separate inputs and labels\n",
    "    inputs, labels = zip(*batch)\n",
    "    \n",
    "    # Pad the input sequences to the same length\n",
    "    inputs_padded = pad_sequence(inputs, batch_first=True, padding_value=0)\n",
    "    \n",
    "    # Stack the labels into a single tensor\n",
    "    labels = torch.stack(labels)\n",
    "    \n",
    "    return inputs_padded, labels"
   ]
  },
  {
   "cell_type": "code",
   "execution_count": 53,
   "metadata": {},
   "outputs": [],
   "source": [
    "def print_class_distribution(data, dataset_name):\n",
    "    class_counts = np.unique(data[:, -1], return_counts=True)\n",
    "    print(f\"Class distribution in {dataset_name}:\")\n",
    "    for class_label, count in zip(class_counts[0], class_counts[1]):\n",
    "        print(f\"Class {int(class_label)}: {count} examples\")"
   ]
  },
  {
   "cell_type": "code",
   "execution_count": 54,
   "metadata": {},
   "outputs": [],
   "source": [
    "def evalute_model(model, dataloader):\n",
    "    model.eval()\n",
    "    all_labels = []\n",
    "    all_predictions = []\n",
    "    with torch.no_grad():\n",
    "        for inputs, labels in dataloader:\n",
    "            outputs = model(inputs)\n",
    "            predicted = (outputs > 0.5).float()\n",
    "            all_labels.extend(labels.cpu().numpy())\n",
    "            all_predictions.extend(predicted.squeeze().cpu().numpy())\n",
    "\n",
    "    conf_matrix = confusion_matrix(all_labels, all_predictions)\n",
    "\n",
    "    plt.figure(figsize=(6, 6))\n",
    "    sns.heatmap(conf_matrix, annot=True, fmt='d', cmap='Blues', xticklabels=[\"No Flood\", \"Flood\"], yticklabels=[\"No Flood\", \"Flood\"])\n",
    "    plt.xlabel(\"Predicted\")\n",
    "    plt.ylabel(\"Actual\")\n",
    "    plt.title(\"Confusion Matrix\")\n",
    "    plt.show()\n",
    "\n",
    "    class_report = classification_report(all_labels, all_predictions, target_names=[\"No Flood\", \"Flood\"])\n",
    "    print(\"\\nClassification Report:\\n\", class_report)"
   ]
  },
  {
   "cell_type": "code",
   "execution_count": 78,
   "metadata": {},
   "outputs": [],
   "source": [
    "def train_evaluate_mlp(train_dataloader, test_dataloader, hidden_size=64, sequence_length=6, criterion=nn.BCELoss()):\n",
    "    input_size = sequence_length * 2 # Since there are two rain gauges\n",
    "    output_size = 1  # Binary classification (Flood or No Flood)\n",
    "\n",
    "    model = MLP(input_size, hidden_size, output_size)\n",
    "    optimizer = torch.optim.Adam(model.parameters(), lr=0.001)\n",
    "\n",
    "    num_epochs = 50\n",
    "\n",
    "    for _ in range(num_epochs):\n",
    "        model.train()\n",
    "        for inputs, labels in train_dataloader:\n",
    "            optimizer.zero_grad()\n",
    "            outputs = model(inputs)\n",
    "            loss = criterion(outputs.squeeze(), labels)\n",
    "            loss.backward()\n",
    "            optimizer.step()\n",
    "\n",
    "    evalute_model(model, test_dataloader)\n",
    "\n",
    "    return model"
   ]
  },
  {
   "cell_type": "code",
   "execution_count": 79,
   "metadata": {},
   "outputs": [
    {
     "name": "stdout",
     "output_type": "stream",
     "text": [
      "Class distribution in training data:\n",
      "Class 0: 8656 examples\n",
      "Class 1: 416 examples\n"
     ]
    }
   ],
   "source": [
    "data = df[[\"812A\", \"833A\", \"flood\"]].values\n",
    "\n",
    "sequence_length = 6\n",
    "predict_ahead = 1\n",
    "\n",
    "X = data[:, :-1]  # Features: rain_gauge_1, rain_gauge_2\n",
    "y = data[:, -1]   # Labels: flood_boolean\n",
    "\n",
    "data = np.hstack([X, y.reshape(-1,1)])\n",
    "\n",
    "train_size = int(len(data) * 0.70)\n",
    "train_data = data[:train_size]\n",
    "test_data = data[train_size:]\n",
    "\n",
    "print_class_distribution(train_data, \"training data\")"
   ]
  },
  {
   "cell_type": "code",
   "execution_count": 81,
   "metadata": {},
   "outputs": [],
   "source": [
    "test_dataset = FloodDataset(test_data, sequence_length, predict_ahead)\n",
    "test_dataloader = DataLoader(test_dataset, batch_size=32, shuffle=False, collate_fn=collate_fn)"
   ]
  },
  {
   "cell_type": "markdown",
   "metadata": {},
   "source": [
    "# Dados desbalanceados"
   ]
  },
  {
   "cell_type": "code",
   "execution_count": 80,
   "metadata": {},
   "outputs": [],
   "source": [
    "train_dataset = FloodDataset(train_data, sequence_length, predict_ahead)\n",
    "train_dataloader = DataLoader(train_dataset, batch_size=32, shuffle=True, collate_fn=collate_fn)"
   ]
  },
  {
   "cell_type": "code",
   "execution_count": 64,
   "metadata": {},
   "outputs": [
    {
     "data": {
      "image/png": "[encoded data removed]",
      "text/plain": [
       "<Figure size 600x600 with 2 Axes>"
      ]
     },
     "metadata": {},
     "output_type": "display_data"
    },
    {
     "name": "stdout",
     "output_type": "stream",
     "text": [
      "\n",
      "Classification Report:\n",
      "               precision    recall  f1-score   support\n",
      "\n",
      "    No Flood       0.98      0.98      0.98      3770\n",
      "       Flood       0.33      0.38      0.35       112\n",
      "\n",
      "    accuracy                           0.96      3882\n",
      "   macro avg       0.65      0.68      0.66      3882\n",
      "weighted avg       0.96      0.96      0.96      3882\n",
      "\n"
     ]
    },
    {
     "data": {
      "text/plain": [
       "MLP(\n",
       "  (fc1): Linear(in_features=12, out_features=64, bias=True)\n",
       "  (fc2): Linear(in_features=64, out_features=64, bias=True)\n",
       "  (fc3): Linear(in_features=64, out_features=1, bias=True)\n",
       "  (sigmoid): Sigmoid()\n",
       ")"
      ]
     },
     "execution_count": 64,
     "metadata": {},
     "output_type": "execute_result"
    }
   ],
   "source": [
    "train_evaluate_mlp(train_dataloader, test_dataloader)"
   ]
  },
  {
   "cell_type": "markdown",
   "metadata": {},
   "source": [
    "# Oversample"
   ]
  },
  {
   "cell_type": "code",
   "execution_count": 73,
   "metadata": {},
   "outputs": [],
   "source": [
    "def oversample_minority_class_smote(data):\n",
    "    X = data[:, :-1]\n",
    "    y = data[:, -1]\n",
    "\n",
    "    smote = SMOTE(random_state=42)\n",
    "    X_resampled, y_resampled = smote.fit_resample(X, y)\n",
    "\n",
    "    balanced_data = np.hstack([X_resampled, y_resampled.reshape(-1, 1)])\n",
    "\n",
    "    return balanced_data"
   ]
  },
  {
   "cell_type": "code",
   "execution_count": 82,
   "metadata": {},
   "outputs": [
    {
     "name": "stdout",
     "output_type": "stream",
     "text": [
      "Class distribution in oversampled training data:\n",
      "Class 0: 8656 examples\n",
      "Class 1: 8656 examples\n"
     ]
    }
   ],
   "source": [
    "train_data_oversampled = oversample_minority_class_smote(train_data)\n",
    "\n",
    "print_class_distribution(train_data_oversampled, \"oversampled training data\")"
   ]
  },
  {
   "cell_type": "code",
   "execution_count": 83,
   "metadata": {},
   "outputs": [],
   "source": [
    "train_dataset_oversampled = FloodDataset(train_data_oversampled, sequence_length, predict_ahead)\n",
    "train_dataloader_oversampled = DataLoader(train_dataset_oversampled, batch_size=32, shuffle=True, collate_fn=collate_fn)"
   ]
  },
  {
   "cell_type": "code",
   "execution_count": 85,
   "metadata": {},
   "outputs": [
    {
     "data": {
      "image/png": "[encoded data removed]",
      "text/plain": [
       "<Figure size 600x600 with 2 Axes>"
      ]
     },
     "metadata": {},
     "output_type": "display_data"
    },
    {
     "name": "stdout",
     "output_type": "stream",
     "text": [
      "\n",
      "Classification Report:\n",
      "               precision    recall  f1-score   support\n",
      "\n",
      "    No Flood       0.98      0.96      0.97      3770\n",
      "       Flood       0.23      0.44      0.30       112\n",
      "\n",
      "    accuracy                           0.94      3882\n",
      "   macro avg       0.61      0.70      0.64      3882\n",
      "weighted avg       0.96      0.94      0.95      3882\n",
      "\n"
     ]
    },
    {
     "data": {
      "text/plain": [
       "MLP(\n",
       "  (fc1): Linear(in_features=12, out_features=64, bias=True)\n",
       "  (fc2): Linear(in_features=64, out_features=64, bias=True)\n",
       "  (fc3): Linear(in_features=64, out_features=1, bias=True)\n",
       "  (sigmoid): Sigmoid()\n",
       ")"
      ]
     },
     "execution_count": 85,
     "metadata": {},
     "output_type": "execute_result"
    }
   ],
   "source": [
    "train_evaluate_mlp(train_dataloader_oversampled, test_dataloader)"
   ]
  },
  {
   "cell_type": "markdown",
   "metadata": {},
   "source": [
    "# Treinamento com pesos nas classes"
   ]
  },
  {
   "cell_type": "code",
   "execution_count": 86,
   "metadata": {},
   "outputs": [],
   "source": [
    "train_df = df[:train_size]\n",
    "\n",
    "num_negatives = len(train_df[train_df[\"flood\"] == 0])\n",
    "num_positives = len(train_df[train_df[\"flood\"] == 1])\n",
    "\n",
    "pos_weight = torch.tensor([num_negatives/num_positives])\n",
    "weighted_criterion = nn.BCEWithLogitsLoss(pos_weight=pos_weight)"
   ]
  },
  {
   "cell_type": "code",
   "execution_count": 87,
   "metadata": {},
   "outputs": [
    {
     "data": {
      "image/png": "[encoded data removed]",
      "text/plain": [
       "<Figure size 600x600 with 2 Axes>"
      ]
     },
     "metadata": {},
     "output_type": "display_data"
    },
    {
     "name": "stdout",
     "output_type": "stream",
     "text": [
      "\n",
      "Classification Report:\n",
      "               precision    recall  f1-score   support\n",
      "\n",
      "    No Flood       0.99      0.86      0.92      3770\n",
      "       Flood       0.12      0.65      0.21       112\n",
      "\n",
      "    accuracy                           0.85      3882\n",
      "   macro avg       0.56      0.76      0.56      3882\n",
      "weighted avg       0.96      0.85      0.90      3882\n",
      "\n"
     ]
    },
    {
     "data": {
      "text/plain": [
       "MLP(\n",
       "  (fc1): Linear(in_features=12, out_features=64, bias=True)\n",
       "  (fc2): Linear(in_features=64, out_features=64, bias=True)\n",
       "  (fc3): Linear(in_features=64, out_features=1, bias=True)\n",
       "  (sigmoid): Sigmoid()\n",
       ")"
      ]
     },
     "execution_count": 87,
     "metadata": {},
     "output_type": "execute_result"
    }
   ],
   "source": [
    "train_evaluate_mlp(train_dataloader, test_dataloader, criterion=weighted_criterion)"
   ]
  },
  {
   "cell_type": "code",
   "execution_count": null,
   "metadata": {},
   "outputs": [],
   "source": []
  }
 ],
 "metadata": {
  "kernelspec": {
   "display_name": "Python 3",
   "language": "python",
   "name": "python3"
  },
  "language_info": {
   "codemirror_mode": {
    "name": "ipython",
    "version": 3
   },
   "file_extension": ".py",
   "mimetype": "text/x-python",
   "name": "python",
   "nbconvert_exporter": "python",
   "pygments_lexer": "ipython3",
   "version": "3.12.6"
  }
 },
 "nbformat": 4,
 "nbformat_minor": 2
}
