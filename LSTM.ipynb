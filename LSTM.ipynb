{
 "cells": [
  {
   "cell_type": "code",
   "execution_count": 1,
   "metadata": {},
   "outputs": [],
   "source": [
    "import matplotlib.pyplot as plt\n",
    "import pandas as pd\n",
    "import torch\n",
    "import torch.nn as nn\n",
    "from sklearn.preprocessing import MinMaxScaler\n",
    "from sklearn.metrics import confusion_matrix, ConfusionMatrixDisplay\n",
    "from sklearn.model_selection import train_test_split\n",
    "import numpy as np\n",
    "from imblearn.over_sampling import SMOTE\n",
    "from torch.utils.data import Dataset, DataLoader, WeightedRandomSampler"
   ]
  },
  {
   "cell_type": "markdown",
   "metadata": {},
   "source": [
    "# Tratamento dos dados"
   ]
  },
  {
   "cell_type": "code",
   "execution_count": 2,
   "metadata": {},
   "outputs": [],
   "source": [
    "df = pd.read_csv(\"data/results/time_data.csv\", sep=\";\")"
   ]
  },
  {
   "cell_type": "code",
   "execution_count": 3,
   "metadata": {},
   "outputs": [
    {
     "name": "stdout",
     "output_type": "stream",
     "text": [
      "<class 'pandas.core.frame.DataFrame'>\n",
      "RangeIndex: 12960 entries, 0 to 12959\n",
      "Data columns (total 7 columns):\n",
      " #   Column       Non-Null Count  Dtype  \n",
      "---  ------       --------------  -----  \n",
      " 0   time         12960 non-null  object \n",
      " 1   812A         12960 non-null  float64\n",
      " 2   833A         12960 non-null  float64\n",
      " 3   812A_tweets  12960 non-null  float64\n",
      " 4   833A_tweets  12960 non-null  float64\n",
      " 5   812A_flood   12960 non-null  int64  \n",
      " 6   833A_flood   12960 non-null  int64  \n",
      "dtypes: float64(4), int64(2), object(1)\n",
      "memory usage: 708.9+ KB\n"
     ]
    }
   ],
   "source": [
    "df.info()"
   ]
  },
  {
   "cell_type": "code",
   "execution_count": 4,
   "metadata": {},
   "outputs": [
    {
     "name": "stderr",
     "output_type": "stream",
     "text": [
      "C:\\Users\\Jefferson\\AppData\\Local\\Temp\\ipykernel_5568\\2530938752.py:1: FutureWarning: In a future version of pandas, parsing datetimes with mixed time zones will raise an error unless `utc=True`. Please specify `utc=True` to opt in to the new behaviour and silence this warning. To create a `Series` with mixed offsets and `object` dtype, please use `apply` and `datetime.datetime.strptime`\n",
      "  df[\"time\"] = pd.to_datetime(df[\"time\"])\n"
     ]
    }
   ],
   "source": [
    "df[\"time\"] = pd.to_datetime(df[\"time\"])"
   ]
  },
  {
   "cell_type": "code",
   "execution_count": 5,
   "metadata": {},
   "outputs": [],
   "source": [
    "df = df.drop([\"812A_tweets\", \"833A_tweets\"], axis=1)"
   ]
  },
  {
   "cell_type": "code",
   "execution_count": 6,
   "metadata": {},
   "outputs": [],
   "source": [
    "def plot_rain_gauge(df):\n",
    "    fig, axs = plt.subplots(2, 1, figsize=(12, 6), sharex=True)\n",
    "\n",
    "    columns = [\"812A\", \"833A\"]\n",
    "\n",
    "    for i, col in enumerate(columns):\n",
    "        axs[i].plot(df[\"time\"], df[col], label=col, color=f\"C{i}\")\n",
    "        axs[i].set_title(f\"Série Temporal: {col}\")\n",
    "        axs[i].set_ylabel(\"Valor\")\n",
    "        axs[i].legend()\n",
    "\n",
    "    axs[-1].set_xlabel(\"Data\")\n",
    "\n",
    "    plt.tight_layout()\n",
    "    plt.show()"
   ]
  },
  {
   "cell_type": "code",
   "execution_count": 7,
   "metadata": {},
   "outputs": [],
   "source": [
    "# plot_rain_gauge(df)"
   ]
  },
  {
   "cell_type": "code",
   "execution_count": 8,
   "metadata": {},
   "outputs": [],
   "source": [
    "df['833A'] = df['833A'].apply(lambda x: 2.5 if x > 2.5 else x)"
   ]
  },
  {
   "cell_type": "code",
   "execution_count": 9,
   "metadata": {},
   "outputs": [],
   "source": [
    "df[\"flood\"] = 0"
   ]
  },
  {
   "cell_type": "code",
   "execution_count": 10,
   "metadata": {},
   "outputs": [],
   "source": [
    "df.loc[((df[\"812A_flood\"] == 1) | (df[\"833A_flood\"] == 1)), \"flood\"] = 1"
   ]
  },
  {
   "cell_type": "code",
   "execution_count": 11,
   "metadata": {},
   "outputs": [],
   "source": [
    "X = df[[\"812A\", \"833A\"]]\n",
    "y = df[\"flood\"]"
   ]
  },
  {
   "cell_type": "markdown",
   "metadata": {},
   "source": [
    "# Setup"
   ]
  },
  {
   "cell_type": "code",
   "execution_count": 31,
   "metadata": {},
   "outputs": [],
   "source": [
    "import torch\n",
    "import torch.nn as nn\n",
    "from torch.utils.data import Dataset, DataLoader\n",
    "from torch.nn.utils.rnn import pad_sequence\n",
    "from sklearn.metrics import confusion_matrix, classification_report\n",
    "import seaborn as sns\n",
    "import matplotlib.pyplot as plt\n",
    "from sklearn.metrics import confusion_matrix, classification_report\n",
    "import seaborn as sns\n",
    "import matplotlib.pyplot as plt"
   ]
  },
  {
   "cell_type": "code",
   "execution_count": 32,
   "metadata": {},
   "outputs": [],
   "source": [
    "class FloodDataset(Dataset):\n",
    "    def __init__(self, data, sequence_length, predict_ahead):\n",
    "        self.data = data\n",
    "        self.sequence_length = sequence_length\n",
    "        self.predict_ahead = predict_ahead\n",
    "\n",
    "    def __len__(self):\n",
    "        # Ensure length is non-negative\n",
    "        return max(0, len(self.data) - self.sequence_length - self.predict_ahead + 1)\n",
    "\n",
    "    def __getitem__(self, idx):\n",
    "        if idx < 0 or idx >= len(self):\n",
    "            raise IndexError(f\"Index {idx} is out of bounds for dataset of size {len(self)}\")\n",
    "        \n",
    "        # Input sequence: rain_gauge_1 and rain_gauge_2 for the past `sequence_length` time steps\n",
    "        x = self.data[idx:idx+self.sequence_length, :-1]\n",
    "        \n",
    "        y = self.data[idx+self.sequence_length, -1]\n",
    "        \n",
    "        x = torch.tensor(x, dtype=torch.float32)\n",
    "        y = torch.tensor(y, dtype=torch.float32)\n",
    "        \n",
    "        return x, y"
   ]
  },
  {
   "cell_type": "code",
   "execution_count": 33,
   "metadata": {},
   "outputs": [],
   "source": [
    "class FloodLSTM(nn.Module):\n",
    "    def __init__(self, input_size, hidden_size, num_layers, output_size):\n",
    "        super(FloodLSTM, self).__init__()\n",
    "        self.hidden_size = hidden_size\n",
    "        self.num_layers = num_layers\n",
    "        self.lstm = nn.LSTM(input_size, hidden_size, num_layers, batch_first=True)\n",
    "        self.fc = nn.Linear(hidden_size, output_size)\n",
    "        self.sigmoid = nn.Sigmoid()\n",
    "\n",
    "    def forward(self, x):\n",
    "        h0 = torch.zeros(self.num_layers, x.size(0), self.hidden_size).to(x.device)\n",
    "        c0 = torch.zeros(self.num_layers, x.size(0), self.hidden_size).to(x.device)\n",
    "        \n",
    "        out, _ = self.lstm(x, (h0, c0))\n",
    "        \n",
    "        out = self.fc(out[:, -1, :])\n",
    "        out = self.sigmoid(out)\n",
    "        return out\n"
   ]
  },
  {
   "cell_type": "code",
   "execution_count": 34,
   "metadata": {},
   "outputs": [],
   "source": [
    "def collate_fn(batch):\n",
    "    # Separate inputs and labels\n",
    "    inputs, labels = zip(*batch)\n",
    "    \n",
    "    # Pad the input sequences to the same length\n",
    "    inputs_padded = pad_sequence(inputs, batch_first=True, padding_value=0)\n",
    "    \n",
    "    # Stack the labels into a single tensor\n",
    "    labels = torch.stack(labels)\n",
    "    \n",
    "    return inputs_padded, labels"
   ]
  },
  {
   "cell_type": "code",
   "execution_count": 66,
   "metadata": {},
   "outputs": [],
   "source": [
    "def print_class_distribution(data, dataset_name):\n",
    "    class_counts = np.unique(data[:, -1], return_counts=True)\n",
    "    print(f\"Class distribution in {dataset_name}:\")\n",
    "    for class_label, count in zip(class_counts[0], class_counts[1]):\n",
    "        print(f\"Class {int(class_label)}: {count} examples\")"
   ]
  },
  {
   "cell_type": "code",
   "execution_count": 69,
   "metadata": {},
   "outputs": [
    {
     "name": "stdout",
     "output_type": "stream",
     "text": [
      "Class distribution in training data:\n",
      "Class 0: 9852 examples\n",
      "Class 1: 516 examples\n"
     ]
    }
   ],
   "source": [
    "data = df[[\"812A\", \"833A\", \"flood\"]].values\n",
    "\n",
    "sequence_length = 6 \n",
    "predict_ahead = 1\n",
    "\n",
    "train_size = int(len(data) * 0.8)\n",
    "train_data = data[:train_size]\n",
    "test_data = data[train_size:]\n",
    "\n",
    "print_class_distribution(train_data, \"training data\")"
   ]
  },
  {
   "cell_type": "markdown",
   "metadata": {},
   "source": [
    "## Oversample"
   ]
  },
  {
   "cell_type": "code",
   "execution_count": 77,
   "metadata": {},
   "outputs": [],
   "source": [
    "from imblearn.over_sampling import SMOTE\n",
    "\n",
    "def oversample_minority_class(data):\n",
    "    # Separate minority and majority classes\n",
    "    minority_class = data[data[:, -1] == 1]\n",
    "    majority_class = data[data[:, -1] == 0]\n",
    "    \n",
    "    # Oversample minority class\n",
    "    oversample_factor = len(majority_class) // len(minority_class)\n",
    "    oversampled_minority = np.repeat(minority_class, repeats=oversample_factor, axis=0)\n",
    "    \n",
    "    # Combine the datasets\n",
    "    balanced_data = np.vstack([majority_class, oversampled_minority])\n",
    "    \n",
    "    # Shuffle the dataset\n",
    "    np.random.shuffle(balanced_data)\n",
    "    \n",
    "    return balanced_data\n",
    "\n",
    "def oversample_minority_class_smote(data):\n",
    "    # Separate features (X) and labels (y)\n",
    "    X = data[:, :-1]  # All columns except the last one\n",
    "    y = data[:, -1]   # Last column (labels)\n",
    "\n",
    "    # Apply SMOTE\n",
    "    smote = SMOTE(random_state=42)\n",
    "    X_resampled, y_resampled = smote.fit_resample(X, y)\n",
    "\n",
    "    # Combine the resampled features and labels\n",
    "    balanced_data = np.hstack([X_resampled, y_resampled.reshape(-1, 1)])\n",
    "\n",
    "    return balanced_data"
   ]
  },
  {
   "cell_type": "code",
   "execution_count": 93,
   "metadata": {},
   "outputs": [
    {
     "name": "stdout",
     "output_type": "stream",
     "text": [
      "Class distribution in oversampled training data:\n",
      "Class 0: 9852 examples\n",
      "Class 1: 9804 examples\n"
     ]
    }
   ],
   "source": [
    "train_data_oversampled = oversample_minority_class(train_data)\n",
    "\n",
    "print_class_distribution(train_data_oversampled, \"oversampled training data\")"
   ]
  },
  {
   "cell_type": "code",
   "execution_count": 94,
   "metadata": {},
   "outputs": [
    {
     "name": "stdout",
     "output_type": "stream",
     "text": [
      "Training data shape: (19656, 3)\n",
      "Test data shape: (2592, 3)\n",
      "Number of training samples: 19650\n",
      "Number of testing samples: 2586\n"
     ]
    }
   ],
   "source": [
    "print(\"Training data shape:\", train_data_oversampled.shape)\n",
    "print(\"Test data shape:\", test_data.shape)\n",
    "\n",
    "train_dataset = FloodDataset(train_data_oversampled, sequence_length, predict_ahead)\n",
    "test_dataset = FloodDataset(test_data, sequence_length, predict_ahead)\n",
    "\n",
    "print(\"Number of training samples:\", len(train_dataset))\n",
    "print(\"Number of testing samples:\", len(test_dataset))\n",
    "\n",
    "batch_size = 32\n",
    "\n",
    "train_dataloader = DataLoader(train_dataset, batch_size=batch_size, shuffle=True, collate_fn=collate_fn)\n",
    "test_dataloader = DataLoader(test_dataset, batch_size=batch_size, shuffle=False, collate_fn=collate_fn)"
   ]
  },
  {
   "cell_type": "code",
   "execution_count": 95,
   "metadata": {},
   "outputs": [],
   "source": [
    "input_size = 2  # rain_gauge_1 and rain_gauge_2\n",
    "hidden_size = 64\n",
    "num_layers = 2\n",
    "output_size = 1  # flood_boolean (binary)\n",
    "\n",
    "model = FloodLSTM(input_size, hidden_size, num_layers, output_size)\n",
    "\n",
    "criterion = nn.BCELoss()\n",
    "\n",
    "optimizer = torch.optim.Adam(model.parameters(), lr=0.001)\n",
    "\n",
    "num_epochs = 50\n",
    "for epoch in range(num_epochs):\n",
    "    for i, (inputs, labels) in enumerate(train_dataloader):\n",
    "        outputs = model(inputs)\n",
    "        loss = criterion(outputs.squeeze(), labels)\n",
    "\n",
    "        optimizer.zero_grad()\n",
    "        loss.backward()\n",
    "        optimizer.step()\n",
    "\n",
    "        # if (i+1) % 10 == 0:\n",
    "        #     print(f'Epoch [{epoch+1}/{num_epochs}], Step [{i+1}/{len(train_dataloader)}], Loss: {loss.item():.4f}')"
   ]
  },
  {
   "cell_type": "code",
   "execution_count": 96,
   "metadata": {},
   "outputs": [
    {
     "data": {
      "image/png": "[encoded data removed]",
      "text/plain": [
       "<Figure size 600x600 with 2 Axes>"
      ]
     },
     "metadata": {},
     "output_type": "display_data"
    },
    {
     "name": "stdout",
     "output_type": "stream",
     "text": [
      "\n",
      "Classification Report:\n",
      "               precision    recall  f1-score   support\n",
      "\n",
      "    No Flood       0.99      0.05      0.10      2574\n",
      "       Flood       0.00      0.92      0.01        12\n",
      "\n",
      "    accuracy                           0.06      2586\n",
      "   macro avg       0.50      0.48      0.05      2586\n",
      "weighted avg       0.99      0.06      0.10      2586\n",
      "\n"
     ]
    }
   ],
   "source": [
    "model.eval()\n",
    "all_labels = []\n",
    "all_predictions = []\n",
    "with torch.no_grad():\n",
    "    for inputs, labels in test_dataloader:\n",
    "        outputs = model(inputs)\n",
    "        predicted = (outputs > 0.5).float()\n",
    "        all_labels.extend(labels.cpu().numpy())\n",
    "        all_predictions.extend(predicted.squeeze().cpu().numpy())\n",
    "\n",
    "conf_matrix = confusion_matrix(all_labels, all_predictions)\n",
    "\n",
    "plt.figure(figsize=(6, 6))\n",
    "sns.heatmap(conf_matrix, annot=True, fmt='d', cmap='Blues', xticklabels=[\"No Flood\", \"Flood\"], yticklabels=[\"No Flood\", \"Flood\"])\n",
    "plt.xlabel(\"Predicted\")\n",
    "plt.ylabel(\"Actual\")\n",
    "plt.title(\"Confusion Matrix\")\n",
    "plt.show()\n",
    "\n",
    "class_report = classification_report(all_labels, all_predictions, target_names=[\"No Flood\", \"Flood\"])\n",
    "print(\"\\nClassification Report:\\n\", class_report)"
   ]
  },
  {
   "cell_type": "markdown",
   "metadata": {},
   "source": [
    "## Treinamento com pesos nas classes"
   ]
  },
  {
   "cell_type": "markdown",
   "metadata": {},
   "source": [
    "Ao invés de utilizar oversampling, esse teste adiciona peso as classes durante o treinamento do modelo.\n",
    "\n",
    "Oversampling gerou resultados melhores, porém, é um método arriscado quando lidamos com séries temporais que possuem dados contínuos."
   ]
  },
  {
   "cell_type": "code",
   "execution_count": 49,
   "metadata": {},
   "outputs": [
    {
     "name": "stdout",
     "output_type": "stream",
     "text": [
      "Training data shape: (10368, 3)\n",
      "Test data shape: (2592, 3)\n",
      "Number of training samples: 10362\n",
      "Number of testing samples: 2586\n"
     ]
    }
   ],
   "source": [
    "print(\"Training data shape:\", train_data.shape)\n",
    "print(\"Test data shape:\", test_data.shape)\n",
    "\n",
    "train_dataset = FloodDataset(train_data, sequence_length, predict_ahead)\n",
    "test_dataset = FloodDataset(test_data, sequence_length, predict_ahead)\n",
    "\n",
    "print(\"Number of training samples:\", len(train_dataset))\n",
    "print(\"Number of testing samples:\", len(test_dataset))\n",
    "\n",
    "batch_size = 32\n",
    "\n",
    "train_dataloader = DataLoader(train_dataset, batch_size=batch_size, shuffle=True, collate_fn=collate_fn)\n",
    "test_dataloader = DataLoader(test_dataset, batch_size=batch_size, shuffle=False, collate_fn=collate_fn)"
   ]
  },
  {
   "cell_type": "code",
   "execution_count": 50,
   "metadata": {},
   "outputs": [],
   "source": [
    "input_size = 2  # rain_gauge_1 and rain_gauge_2\n",
    "hidden_size = 64\n",
    "num_layers = 2\n",
    "output_size = 1  # flood_boolean (binary)\n",
    "\n",
    "model = FloodLSTM(input_size, hidden_size, num_layers, output_size)\n",
    "\n",
    "train_df = df[:train_size]\n",
    "\n",
    "num_negatives = len(train_df[train_df[\"flood\"] == 0])\n",
    "num_positives = len(train_df[train_df[\"flood\"] == 1])\n",
    "\n",
    "pos_weight = torch.tensor([num_negatives/num_positives])\n",
    "criterion = nn.BCEWithLogitsLoss(pos_weight=pos_weight)\n",
    "\n",
    "optimizer = torch.optim.Adam(model.parameters(), lr=0.001)\n",
    "\n",
    "num_epochs = 50\n",
    "for epoch in range(num_epochs):\n",
    "    for i, (inputs, labels) in enumerate(train_dataloader):\n",
    "        outputs = model(inputs)\n",
    "        loss = criterion(outputs.squeeze(), labels)\n",
    "\n",
    "        optimizer.zero_grad()\n",
    "        loss.backward()\n",
    "        optimizer.step()\n",
    "\n",
    "        # if (i+1) % 10 == 0:\n",
    "        #     print(f'Epoch [{epoch+1}/{num_epochs}], Step [{i+1}/{len(train_dataloader)}], Loss: {loss.item():.4f}')"
   ]
  },
  {
   "cell_type": "code",
   "execution_count": 51,
   "metadata": {},
   "outputs": [
    {
     "data": {
      "image/png": "[encoded data removed]",
      "text/plain": [
       "<Figure size 600x600 with 2 Axes>"
      ]
     },
     "metadata": {},
     "output_type": "display_data"
    },
    {
     "name": "stdout",
     "output_type": "stream",
     "text": [
      "\n",
      "Classification Report:\n",
      "               precision    recall  f1-score   support\n",
      "\n",
      "    No Flood       1.00      0.96      0.98      2574\n",
      "       Flood       0.05      0.50      0.09        12\n",
      "\n",
      "    accuracy                           0.95      2586\n",
      "   macro avg       0.52      0.73      0.53      2586\n",
      "weighted avg       0.99      0.95      0.97      2586\n",
      "\n"
     ]
    }
   ],
   "source": [
    "model.eval()\n",
    "all_labels = []\n",
    "all_predictions = []\n",
    "with torch.no_grad():\n",
    "    for inputs, labels in test_dataloader:\n",
    "        outputs = model(inputs)\n",
    "        predicted = (outputs > 0.5).float()\n",
    "        all_labels.extend(labels.cpu().numpy())\n",
    "        all_predictions.extend(predicted.squeeze().cpu().numpy())\n",
    "\n",
    "conf_matrix = confusion_matrix(all_labels, all_predictions)\n",
    "\n",
    "plt.figure(figsize=(6, 6))\n",
    "sns.heatmap(conf_matrix, annot=True, fmt='d', cmap='Blues', xticklabels=[\"No Flood\", \"Flood\"], yticklabels=[\"No Flood\", \"Flood\"])\n",
    "plt.xlabel(\"Predicted\")\n",
    "plt.ylabel(\"Actual\")\n",
    "plt.title(\"Confusion Matrix\")\n",
    "plt.show()\n",
    "\n",
    "class_report = classification_report(all_labels, all_predictions, target_names=[\"No Flood\", \"Flood\"])\n",
    "print(\"\\nClassification Report:\\n\", class_report)"
   ]
  }
 ],
 "metadata": {
  "kernelspec": {
   "display_name": "Python 3",
   "language": "python",
   "name": "python3"
  },
  "language_info": {
   "codemirror_mode": {
    "name": "ipython",
    "version": 3
   },
   "file_extension": ".py",
   "mimetype": "text/x-python",
   "name": "python",
   "nbconvert_exporter": "python",
   "pygments_lexer": "ipython3",
   "version": "3.12.6"
  }
 },
 "nbformat": 4,
 "nbformat_minor": 2
}
